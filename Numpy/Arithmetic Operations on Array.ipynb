{
 "cells": [
  {
   "cell_type": "code",
   "execution_count": 1,
   "id": "000e8432-1a27-4b7a-bbfe-85e615e66967",
   "metadata": {
    "tags": []
   },
   "outputs": [],
   "source": [
    "import numpy as np"
   ]
  },
  {
   "cell_type": "code",
   "execution_count": 3,
   "id": "a7ff415b-296b-4e02-bcf7-177507120146",
   "metadata": {
    "tags": []
   },
   "outputs": [
    {
     "name": "stdout",
     "output_type": "stream",
     "text": [
      "[1, 2, 3, 4, 5, 6]\n",
      "[1 2 3 4 5 6]\n"
     ]
    }
   ],
   "source": [
    "lst = [1,2,3,4,5,6]\n",
    "arr = np.array(lst)\n",
    "print(lst)\n",
    "print(arr)"
   ]
  },
  {
   "cell_type": "code",
   "execution_count": 6,
   "id": "dd32604d-ee2f-4cbf-b9cd-e2cfafc3c0e2",
   "metadata": {
    "tags": []
   },
   "outputs": [
    {
     "name": "stdout",
     "output_type": "stream",
     "text": [
      "21\n",
      "21\n"
     ]
    }
   ],
   "source": [
    "print(sum(lst))\n",
    "print(sum(arr))"
   ]
  },
  {
   "cell_type": "markdown",
   "id": "12639ea2-645a-4926-bbe9-dd44c95b6c5e",
   "metadata": {},
   "source": [
    "## Adding value to all elements in the aray"
   ]
  },
  {
   "cell_type": "code",
   "execution_count": 12,
   "id": "a126194e-f94e-462a-877d-187bcb27e747",
   "metadata": {
    "tags": []
   },
   "outputs": [
    {
     "name": "stdout",
     "output_type": "stream",
     "text": [
      "[1 2 3 4 5 6]\n",
      "[3 4 5 6 7 8]\n",
      "[ 2  4  6  8 10 12]\n",
      "[0.5 1.  1.5 2.  2.5 3. ]\n",
      "[-1  0  1  2  3  4]\n",
      "[ 1  4  9 16 25 36]\n",
      "[2 3 4 5 6 7]\n"
     ]
    }
   ],
   "source": [
    "arr + 2  # here arr is not updated\n",
    "print(arr)\n",
    "print(arr+2)\n",
    "print(arr*2)\n",
    "print(arr/2)\n",
    "print(arr-2)\n",
    "print(arr**2)\n",
    "\n",
    "arr += 1 #arr = arr + 1. this will update the array\n",
    "print(arr)"
   ]
  },
  {
   "cell_type": "markdown",
   "id": "310e8c9e-2239-4f1f-87b4-f0c9eafa6beb",
   "metadata": {},
   "source": [
    "## Max and Min from array"
   ]
  },
  {
   "cell_type": "code",
   "execution_count": 13,
   "id": "51f379fb-0b00-465f-b009-bffe71db4b8d",
   "metadata": {
    "tags": []
   },
   "outputs": [
    {
     "name": "stdout",
     "output_type": "stream",
     "text": [
      "7\n",
      "2\n"
     ]
    }
   ],
   "source": [
    "print(arr.max())\n",
    "print(arr.min())"
   ]
  },
  {
   "cell_type": "markdown",
   "id": "0cff7d4d-b9e6-45cb-8e01-f326af787b19",
   "metadata": {},
   "source": [
    "### from multi-D array"
   ]
  },
  {
   "cell_type": "code",
   "execution_count": 14,
   "id": "e113b61e-932e-4baf-83a3-8bfe6af2339d",
   "metadata": {
    "tags": []
   },
   "outputs": [],
   "source": [
    "arr1 = np.array([[1,2,3],\n",
    "                [4,5,6],\n",
    "                [7,8,9]])"
   ]
  },
  {
   "cell_type": "code",
   "execution_count": 16,
   "id": "0e5a0e33-aa6a-41ed-a0a7-12a08f99d9b5",
   "metadata": {
    "tags": []
   },
   "outputs": [
    {
     "name": "stdout",
     "output_type": "stream",
     "text": [
      "9\n",
      "1\n"
     ]
    }
   ],
   "source": [
    "print(arr1.max())\n",
    "print(arr1.min())"
   ]
  },
  {
   "cell_type": "code",
   "execution_count": 26,
   "id": "e3d8069a-91c0-4556-94b7-07c55ba65cea",
   "metadata": {
    "tags": []
   },
   "outputs": [
    {
     "name": "stdout",
     "output_type": "stream",
     "text": [
      "[7 8 9]\n",
      "[3 6 9]\n",
      "[1 2 3]\n",
      "[1 4 7]\n"
     ]
    }
   ],
   "source": [
    "print(arr1.max(axis = 0)) # axis refers to col and rows for multi dimentional array\n",
    "print(arr1.max(axis = 1)) # 0 represents col and 1 represents row\n",
    "print(arr1.min(axis = 0))\n",
    "print(arr1.min(axis = 1))"
   ]
  },
  {
   "cell_type": "code",
   "execution_count": 27,
   "id": "fd074bd2-d135-483f-8236-0a232dc1c75f",
   "metadata": {
    "tags": []
   },
   "outputs": [
    {
     "name": "stdout",
     "output_type": "stream",
     "text": [
      "[12 15 18]\n",
      "45\n"
     ]
    }
   ],
   "source": [
    "print(sum(arr1))\n",
    "print(arr1.sum())"
   ]
  },
  {
   "cell_type": "code",
   "execution_count": null,
   "id": "7c58909d-1239-403f-bf7f-1a1ba33ef6c2",
   "metadata": {},
   "outputs": [],
   "source": []
  }
 ],
 "metadata": {
  "kernelspec": {
   "display_name": "Python 3 (ipykernel)",
   "language": "python",
   "name": "python3"
  },
  "language_info": {
   "codemirror_mode": {
    "name": "ipython",
    "version": 3
   },
   "file_extension": ".py",
   "mimetype": "text/x-python",
   "name": "python",
   "nbconvert_exporter": "python",
   "pygments_lexer": "ipython3",
   "version": "3.11.5"
  }
 },
 "nbformat": 4,
 "nbformat_minor": 5
}
