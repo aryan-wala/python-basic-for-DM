{
 "cells": [
  {
   "cell_type": "code",
   "execution_count": 1,
   "id": "b29d7123-a9fb-41ce-8822-419b306f38cc",
   "metadata": {
    "tags": []
   },
   "outputs": [],
   "source": [
    "import numpy as np"
   ]
  },
  {
   "cell_type": "code",
   "execution_count": 14,
   "id": "c712da59-b526-4e7c-aad6-3aff0bbdd940",
   "metadata": {
    "tags": []
   },
   "outputs": [
    {
     "data": {
      "text/plain": [
       "0.8791903627997764"
      ]
     },
     "execution_count": 14,
     "metadata": {},
     "output_type": "execute_result"
    }
   ],
   "source": [
    "np.random.random() # generates random number"
   ]
  },
  {
   "cell_type": "code",
   "execution_count": 15,
   "id": "806f8b59-8db2-4411-903d-fcdc15a3e507",
   "metadata": {
    "tags": []
   },
   "outputs": [
    {
     "name": "stdout",
     "output_type": "stream",
     "text": [
      "Hello\n"
     ]
    }
   ],
   "source": [
    "if np.random.random() > 0.5:\n",
    "    print(\"Hello\")\n",
    "else:\n",
    "    print(\"No Hello\")"
   ]
  },
  {
   "cell_type": "code",
   "execution_count": 16,
   "id": "d0a5afba-79c5-4fab-b58e-1305ba776968",
   "metadata": {
    "tags": []
   },
   "outputs": [
    {
     "data": {
      "text/plain": [
       "array([[0.19711661, 0.08114008, 0.91667551],\n",
       "       [0.27649912, 0.72225727, 0.94315619],\n",
       "       [0.36113735, 0.62700981, 0.20011763]])"
      ]
     },
     "execution_count": 16,
     "metadata": {},
     "output_type": "execute_result"
    }
   ],
   "source": [
    "arr = np.random.random((3,3))\n",
    "arr"
   ]
  },
  {
   "cell_type": "markdown",
   "id": "fc0e1daa-2ddd-4de6-adc1-3161b76200a5",
   "metadata": {},
   "source": [
    "## Generating Array Range"
   ]
  },
  {
   "cell_type": "code",
   "execution_count": 17,
   "id": "b6eaa5e6-925b-477e-8592-96214ed1b5ce",
   "metadata": {
    "tags": []
   },
   "outputs": [
    {
     "name": "stdout",
     "output_type": "stream",
     "text": [
      "[1 3 5 7 9]\n"
     ]
    }
   ],
   "source": [
    "arr1 = np.arange(1,10,2) #arange(start,end+1,difference)\n",
    "print(arr1)"
   ]
  },
  {
   "cell_type": "code",
   "execution_count": 23,
   "id": "3ed6a7e8-836e-43b6-a8b1-3af310b33305",
   "metadata": {
    "tags": []
   },
   "outputs": [
    {
     "name": "stdout",
     "output_type": "stream",
     "text": [
      "[1.   1.25 1.5  1.75 2.  ]\n"
     ]
    }
   ],
   "source": [
    "arr2 = np.linspace(1,2,5) #linespace(start,end+1,total values in array)\n",
    "print(arr2)"
   ]
  },
  {
   "cell_type": "markdown",
   "id": "16be6f54-6f96-473f-9b65-5c4302738e65",
   "metadata": {},
   "source": [
    "## Reshape Array"
   ]
  },
  {
   "cell_type": "code",
   "execution_count": 27,
   "id": "11707860-101f-495b-81cb-7edc9fc19208",
   "metadata": {
    "tags": []
   },
   "outputs": [
    {
     "name": "stdout",
     "output_type": "stream",
     "text": [
      "[[0.17922596 0.78708489 0.95821835 0.95735878]\n",
      " [0.50374012 0.2550943  0.27452883 0.91183053]\n",
      " [0.15532508 0.35446962 0.23612324 0.49127401]\n",
      " [0.80756693 0.594609   0.79896905 0.62724986]\n",
      " [0.52155043 0.58226478 0.11426935 0.60855086]]\n"
     ]
    }
   ],
   "source": [
    "arr = np.random.random((5,4))\n",
    "print(arr)"
   ]
  },
  {
   "cell_type": "code",
   "execution_count": 29,
   "id": "b82c9c7f-bfb9-402b-99da-d6a6a25f6cce",
   "metadata": {
    "tags": []
   },
   "outputs": [
    {
     "name": "stdout",
     "output_type": "stream",
     "text": [
      "[[0.17922596 0.78708489 0.95821835 0.95735878 0.50374012 0.2550943\n",
      "  0.27452883 0.91183053 0.15532508 0.35446962]\n",
      " [0.23612324 0.49127401 0.80756693 0.594609   0.79896905 0.62724986\n",
      "  0.52155043 0.58226478 0.11426935 0.60855086]]\n",
      "[[0.17922596]\n",
      " [0.78708489]\n",
      " [0.95821835]\n",
      " [0.95735878]\n",
      " [0.50374012]\n",
      " [0.2550943 ]\n",
      " [0.27452883]\n",
      " [0.91183053]\n",
      " [0.15532508]\n",
      " [0.35446962]\n",
      " [0.23612324]\n",
      " [0.49127401]\n",
      " [0.80756693]\n",
      " [0.594609  ]\n",
      " [0.79896905]\n",
      " [0.62724986]\n",
      " [0.52155043]\n",
      " [0.58226478]\n",
      " [0.11426935]\n",
      " [0.60855086]]\n"
     ]
    }
   ],
   "source": [
    "arr = np.reshape(arr, (2,10))  # the total elements must be same in reshape\n",
    "print(arr) \n",
    "\n",
    "arr = np.reshape(arr, (20,1))\n",
    "print(arr)"
   ]
  },
  {
   "cell_type": "code",
   "execution_count": 32,
   "id": "a4a7ef68-89b2-46c0-9f05-217a4f5b388f",
   "metadata": {
    "tags": []
   },
   "outputs": [
    {
     "name": "stdout",
     "output_type": "stream",
     "text": [
      "[[0.8634043  0.27948174 0.0585099 ]\n",
      " [0.08029111 0.9328239  0.87703605]]\n"
     ]
    },
    {
     "data": {
      "text/plain": [
       "array([0.8634043 , 0.27948174, 0.0585099 , 0.08029111, 0.9328239 ,\n",
       "       0.87703605])"
      ]
     },
     "execution_count": 32,
     "metadata": {},
     "output_type": "execute_result"
    }
   ],
   "source": [
    "arr = np.random.random((2,3))\n",
    "print(arr)\n",
    "arr.flatten() #converts any dimension array into one-D array\n"
   ]
  },
  {
   "cell_type": "code",
   "execution_count": null,
   "id": "97543500-4371-405c-ad41-84e130010a49",
   "metadata": {},
   "outputs": [],
   "source": []
  }
 ],
 "metadata": {
  "kernelspec": {
   "display_name": "Python 3 (ipykernel)",
   "language": "python",
   "name": "python3"
  },
  "language_info": {
   "codemirror_mode": {
    "name": "ipython",
    "version": 3
   },
   "file_extension": ".py",
   "mimetype": "text/x-python",
   "name": "python",
   "nbconvert_exporter": "python",
   "pygments_lexer": "ipython3",
   "version": "3.11.5"
  }
 },
 "nbformat": 4,
 "nbformat_minor": 5
}
