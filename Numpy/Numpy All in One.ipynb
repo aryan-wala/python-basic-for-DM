{
 "cells": [
  {
   "cell_type": "code",
   "execution_count": 2,
   "id": "9321d1d8-ca4c-4818-baee-edeafdbc64d7",
   "metadata": {
    "tags": []
   },
   "outputs": [],
   "source": [
    "import numpy as np"
   ]
  },
  {
   "cell_type": "markdown",
   "id": "fc56886a-00ce-448f-9d8f-eeaecf16be24",
   "metadata": {},
   "source": [
    "### 1. Converting List into Array"
   ]
  },
  {
   "cell_type": "code",
   "execution_count": 3,
   "id": "6f9cedbc-d020-4dd1-aa4f-b624a52b1a31",
   "metadata": {
    "tags": []
   },
   "outputs": [
    {
     "data": {
      "text/plain": [
       "numpy.ndarray"
      ]
     },
     "execution_count": 3,
     "metadata": {},
     "output_type": "execute_result"
    }
   ],
   "source": [
    "lst = [1,2,3,4]\n",
    "arr = np.array(lst)\n",
    "type(arr)"
   ]
  },
  {
   "cell_type": "markdown",
   "id": "32ee8f93-c62f-4dfe-b7ea-561f6709617a",
   "metadata": {},
   "source": [
    "Dimensions in array"
   ]
  },
  {
   "cell_type": "code",
   "execution_count": 7,
   "id": "0893bd6f-5d85-46b1-bef4-f11b9b48332e",
   "metadata": {
    "tags": []
   },
   "outputs": [
    {
     "name": "stdout",
     "output_type": "stream",
     "text": [
      "[1 2 3 4]\n",
      "[[1 2 3 4]]\n"
     ]
    }
   ],
   "source": [
    "print(arr)\n",
    "arr = np.array(lst, ndmin=2)\n",
    "print(arr)"
   ]
  },
  {
   "cell_type": "markdown",
   "id": "b501699a-1a84-4b41-8746-ae2339d041e9",
   "metadata": {},
   "source": [
    "### 2. Array Range"
   ]
  },
  {
   "cell_type": "code",
   "execution_count": 8,
   "id": "c2917a68-de68-4458-95d1-0eb3ce143a23",
   "metadata": {
    "tags": []
   },
   "outputs": [
    {
     "name": "stdout",
     "output_type": "stream",
     "text": [
      "0\n",
      "1\n",
      "2\n",
      "3\n",
      "4\n",
      "5\n",
      "6\n",
      "7\n",
      "8\n",
      "9\n"
     ]
    }
   ],
   "source": [
    "for i in range(10):\n",
    "    print(i)"
   ]
  },
  {
   "cell_type": "code",
   "execution_count": 12,
   "id": "10470030-8c99-4dd5-9289-6fa5c581531a",
   "metadata": {
    "tags": []
   },
   "outputs": [
    {
     "name": "stdout",
     "output_type": "stream",
     "text": [
      "[1 2 3 4 5 6 7 8 9]\n",
      "[1 3 5 7 9]\n"
     ]
    }
   ],
   "source": [
    "print(np.arange(1,10))\n",
    "print(np.arange(1,10,2))\n"
   ]
  },
  {
   "cell_type": "markdown",
   "id": "d1d85a38-f512-4c76-ab2e-9f420c607548",
   "metadata": {},
   "source": [
    "### 3. Size Of Array"
   ]
  },
  {
   "cell_type": "code",
   "execution_count": 18,
   "id": "54c6293c-91e3-406c-bd4c-f44989c7380f",
   "metadata": {
    "tags": []
   },
   "outputs": [
    {
     "name": "stdout",
     "output_type": "stream",
     "text": [
      "Size :  6\n",
      "Row  :  2\n",
      "Col  :  3\n"
     ]
    }
   ],
   "source": [
    "arr = np.array([[1,2,3],[4,5,6]])\n",
    "print('Size : ',arr.size)\n",
    "print('Row  : ',np.size(arr,0))\n",
    "print('Col  : ',np.size(arr,1))"
   ]
  },
  {
   "cell_type": "markdown",
   "id": "cb8fb267-753f-45ee-9655-34d4de16ec68",
   "metadata": {},
   "source": [
    "Shape Function"
   ]
  },
  {
   "cell_type": "code",
   "execution_count": 21,
   "id": "bb5809cf-26ee-4003-90a9-0306517d6979",
   "metadata": {
    "tags": []
   },
   "outputs": [
    {
     "name": "stdout",
     "output_type": "stream",
     "text": [
      "(2, 3)\n"
     ]
    }
   ],
   "source": [
    "print(arr.shape) #prints rows and colm of array"
   ]
  },
  {
   "cell_type": "markdown",
   "id": "456de6e9-1825-4653-9e86-4750641f11f8",
   "metadata": {},
   "source": [
    "### 4. Dtype"
   ]
  },
  {
   "cell_type": "code",
   "execution_count": 25,
   "id": "83f74e10-d281-48dd-92e9-6bb9ae79e036",
   "metadata": {
    "tags": []
   },
   "outputs": [
    {
     "name": "stdout",
     "output_type": "stream",
     "text": [
      "[1 2 3 4 5 6]\n",
      "int32\n",
      "[1.1  2.2  3.   4.   3.34 5.   6.  ]\n",
      "float64\n"
     ]
    }
   ],
   "source": [
    "arr1 = np.array([1,2,3,4,5,6])\n",
    "arr2 = np.array([1.1,2.2,3,4,3.34,5,6])\n",
    "print(arr1)\n",
    "print(arr1.dtype)\n",
    "\n",
    "print(arr2)\n",
    "print(arr2.dtype)"
   ]
  },
  {
   "cell_type": "markdown",
   "id": "4ebf6053-1b1f-4aca-b1dc-3b55df86b179",
   "metadata": {},
   "source": [
    "### 5. Ndim Function"
   ]
  },
  {
   "cell_type": "code",
   "execution_count": 27,
   "id": "3dcacedf-792a-4b33-93bb-600c0854aef5",
   "metadata": {
    "tags": []
   },
   "outputs": [
    {
     "name": "stdout",
     "output_type": "stream",
     "text": [
      "2\n"
     ]
    }
   ],
   "source": [
    "arr = np.array([[1,2,3],[4,5,6]])\n",
    "print(arr.ndim)"
   ]
  },
  {
   "cell_type": "markdown",
   "id": "413496a6-ad9a-4d04-a3af-547b6d163dc3",
   "metadata": {},
   "source": [
    "### 6. Zeros and Ones Function and Empty Function"
   ]
  },
  {
   "cell_type": "code",
   "execution_count": 32,
   "id": "95c7049c-f85e-40e3-806d-54abcb0a73fb",
   "metadata": {
    "tags": []
   },
   "outputs": [
    {
     "name": "stdout",
     "output_type": "stream",
     "text": [
      "[[0. 0. 0. 0.]\n",
      " [0. 0. 0. 0.]\n",
      " [0. 0. 0. 0.]]\n",
      "float64\n",
      "[[0 0 0]\n",
      " [0 0 0]]\n",
      "int32\n"
     ]
    }
   ],
   "source": [
    "arr = np.zeros(shape = (3,4)) #shape = rows,cols\n",
    "print(arr)\n",
    "print(arr.dtype)\n",
    "\n",
    "arr = np.zeros(shape = (2,3),dtype=int)\n",
    "print(arr)\n",
    "print(arr.dtype)"
   ]
  },
  {
   "cell_type": "code",
   "execution_count": 33,
   "id": "3af72d18-b0f2-4a39-8813-14fd5d76ec96",
   "metadata": {
    "tags": []
   },
   "outputs": [
    {
     "name": "stdout",
     "output_type": "stream",
     "text": [
      "[[1. 1. 1. 1.]\n",
      " [1. 1. 1. 1.]\n",
      " [1. 1. 1. 1.]]\n",
      "float64\n",
      "[[1 1 1]\n",
      " [1 1 1]]\n",
      "int32\n"
     ]
    }
   ],
   "source": [
    "arr = np.ones(shape = (3,4)) #shape = rows,cols\n",
    "print(arr)\n",
    "print(arr.dtype)\n",
    "\n",
    "arr = np.ones(shape = (2,3),dtype=int)\n",
    "print(arr)\n",
    "print(arr.dtype)"
   ]
  },
  {
   "cell_type": "code",
   "execution_count": 51,
   "id": "746a21cd-0274-4805-a6c6-d0ab28a4c4d1",
   "metadata": {
    "tags": []
   },
   "outputs": [
    {
     "name": "stdout",
     "output_type": "stream",
     "text": [
      "[[6.23042070e-307 4.67296746e-307]\n",
      " [1.69121096e-306 2.22522868e-306]\n",
      " [1.89146896e-307 7.56571288e-307]]\n"
     ]
    }
   ],
   "source": [
    "print(np.empty(shape = (3,2))) #generates random values"
   ]
  },
  {
   "cell_type": "markdown",
   "id": "bf9fbb9b-0db4-46a2-8595-2f410c6a64c4",
   "metadata": {},
   "source": [
    "### 7. Eye function\n",
    "used to generate identity matrix"
   ]
  },
  {
   "cell_type": "code",
   "execution_count": 36,
   "id": "2f8b9d69-d212-45f0-991c-6a608993521b",
   "metadata": {
    "tags": []
   },
   "outputs": [
    {
     "name": "stdout",
     "output_type": "stream",
     "text": [
      "[[1. 0.]\n",
      " [0. 1.]]\n"
     ]
    }
   ],
   "source": [
    "print(np.eye(2))"
   ]
  },
  {
   "cell_type": "code",
   "execution_count": 37,
   "id": "acd9c9f8-171c-4ea8-b930-65cdb20a7cb4",
   "metadata": {
    "tags": []
   },
   "outputs": [
    {
     "name": "stdout",
     "output_type": "stream",
     "text": [
      "[[1 0 0 0]\n",
      " [0 1 0 0]\n",
      " [0 0 1 0]\n",
      " [0 0 0 1]]\n"
     ]
    }
   ],
   "source": [
    "print(np.eye(4,dtype=int))"
   ]
  },
  {
   "cell_type": "markdown",
   "id": "7c7b735a-07e8-48dd-b453-c9d28e5db55d",
   "metadata": {},
   "source": [
    "### 8. Random Functions"
   ]
  },
  {
   "cell_type": "markdown",
   "id": "13a08848-be59-4d12-80e3-826fe33aaa41",
   "metadata": {},
   "source": [
    "Random.rand()"
   ]
  },
  {
   "cell_type": "code",
   "execution_count": 60,
   "id": "0b132144-3e39-48c6-b3be-1613039c6e63",
   "metadata": {
    "tags": []
   },
   "outputs": [
    {
     "data": {
      "text/plain": [
       "0.025248553770911397"
      ]
     },
     "execution_count": 60,
     "metadata": {},
     "output_type": "execute_result"
    }
   ],
   "source": [
    "np.random.rand()# generates a value between 0-1"
   ]
  },
  {
   "cell_type": "code",
   "execution_count": 61,
   "id": "857472e0-d26d-4a8b-8208-9a679c26d141",
   "metadata": {
    "tags": []
   },
   "outputs": [
    {
     "data": {
      "text/plain": [
       "array([[0.43504835, 0.18785518, 0.8403169 , 0.20292002],\n",
       "       [0.35411353, 0.2600701 , 0.90222706, 0.06358985],\n",
       "       [0.69251072, 0.67258654, 0.82019343, 0.04828235]])"
      ]
     },
     "execution_count": 61,
     "metadata": {},
     "output_type": "execute_result"
    }
   ],
   "source": [
    "np.random.rand(3,4)"
   ]
  },
  {
   "cell_type": "markdown",
   "id": "44e50234-c699-40b7-9063-3e0fd3d6dd3f",
   "metadata": {},
   "source": [
    "Random.randint()"
   ]
  },
  {
   "cell_type": "code",
   "execution_count": 79,
   "id": "7a9d0f1e-a1ab-454b-b7fe-69e7d6e3bff9",
   "metadata": {
    "tags": []
   },
   "outputs": [
    {
     "name": "stdout",
     "output_type": "stream",
     "text": [
      "[54 35 27 99 57 75 83 98 60 62]\n",
      "[[ 2  4  8 15]\n",
      " [ 5 12  1  9]\n",
      " [11 13 11 12]]\n"
     ]
    }
   ],
   "source": [
    "print(np.random.randint(low = 10, high=100, size = 10))\n",
    "print(np.random.randint(1,20,(3,4)))"
   ]
  },
  {
   "cell_type": "markdown",
   "id": "e860cbed-c461-4612-9cd6-ab00b610192d",
   "metadata": {},
   "source": [
    "Random.randn()\n",
    "creates array of specified shape and fills it with random values"
   ]
  },
  {
   "cell_type": "code",
   "execution_count": 71,
   "id": "f047aa64-333d-4864-9128-00527cc897a2",
   "metadata": {
    "tags": []
   },
   "outputs": [
    {
     "data": {
      "text/plain": [
       "array([-0.94876753,  2.47186225, -0.35263743,  0.59865498,  0.37268133,\n",
       "       -0.75671532,  2.26068799, -1.04666846,  1.12066647, -0.93459656,\n",
       "        0.15136796,  0.32127584,  2.45880516, -0.91314739, -1.42085566,\n",
       "       -1.14050143, -1.12545564,  0.32409616,  1.32557232,  0.71838395,\n",
       "       -0.35642601, -1.53119116,  1.72379457, -0.08171488,  0.77189474,\n",
       "       -1.39595556, -0.3871944 ,  0.01103355,  2.09418034, -1.06724605,\n",
       "       -1.91380975])"
      ]
     },
     "execution_count": 71,
     "metadata": {},
     "output_type": "execute_result"
    }
   ],
   "source": [
    "np.random.randn(31)"
   ]
  },
  {
   "cell_type": "code",
   "execution_count": 73,
   "id": "ad87a190-dddf-4ef6-a9a1-dc0e8292a55c",
   "metadata": {
    "tags": []
   },
   "outputs": [
    {
     "data": {
      "text/plain": [
       "array([[-0.69009445, -0.2191122 ,  0.94738897],\n",
       "       [-2.00343753,  0.34161279,  0.65175669]])"
      ]
     },
     "execution_count": 73,
     "metadata": {},
     "output_type": "execute_result"
    }
   ],
   "source": [
    "np.random.randn(2,3)"
   ]
  },
  {
   "cell_type": "code",
   "execution_count": 4,
   "id": "e0f85827-a30d-4a01-94ee-ac0e66469acb",
   "metadata": {
    "tags": []
   },
   "outputs": [
    {
     "data": {
      "text/plain": [
       "(array([  1.,   8.,  19.,  89., 184., 272., 239., 130.,  46.,  12.]),\n",
       " array([-3.90333262, -3.22460224, -2.54587186, -1.86714147, -1.18841109,\n",
       "        -0.5096807 ,  0.16904968,  0.84778007,  1.52651045,  2.20524084,\n",
       "         2.88397122]),\n",
       " <BarContainer object of 10 artists>)"
      ]
     },
     "execution_count": 4,
     "metadata": {},
     "output_type": "execute_result"
    },
    {
     "data": {
      "image/png": "[encoded data removed]",
      "text/plain": [
       "<Figure size 640x480 with 1 Axes>"
      ]
     },
     "metadata": {},
     "output_type": "display_data"
    }
   ],
   "source": [
    "import matplotlib.pyplot as plt\n",
    "\n",
    "%matplotlib inline\n",
    "\n",
    "plt.hist(np.random.randn(1000))"
   ]
  },
  {
   "cell_type": "markdown",
   "id": "5168a1dd-2cb2-4c8b-9fa0-6e1de5e9af2e",
   "metadata": {},
   "source": [
    "### 9. Reshape Function()"
   ]
  },
  {
   "cell_type": "code",
   "execution_count": 84,
   "id": "7b8fe199-103e-4924-b136-2cabd872c604",
   "metadata": {
    "tags": []
   },
   "outputs": [
    {
     "name": "stdout",
     "output_type": "stream",
     "text": [
      "(2, 3)\n",
      "(3, 2)\n"
     ]
    }
   ],
   "source": [
    "arr = np.random.randint(1,10,(2,3))\n",
    "print(arr.shape)\n",
    "\n",
    "arr = arr.reshape(3,2)\n",
    "print(arr.shape)"
   ]
  },
  {
   "cell_type": "markdown",
   "id": "cfd40a60-9828-43d8-879f-5240972b519f",
   "metadata": {},
   "source": [
    "### 10. linspace()\n",
    "it is used to create an array having equal distances between the elements"
   ]
  },
  {
   "cell_type": "code",
   "execution_count": 90,
   "id": "5b2ece1c-fc78-4c42-aa9d-c863dff99d5a",
   "metadata": {
    "tags": []
   },
   "outputs": [
    {
     "data": {
      "text/plain": [
       "array([ 1.  ,  3.25,  5.5 ,  7.75, 10.  ])"
      ]
     },
     "execution_count": 90,
     "metadata": {},
     "output_type": "execute_result"
    }
   ],
   "source": [
    "np.linspace(1,10,5) #start,end,total elements"
   ]
  },
  {
   "cell_type": "markdown",
   "id": "903347ce-98ba-4155-8c29-52cd7748e66d",
   "metadata": {},
   "source": [
    "### 11. flatten()\n",
    "used to convert any dimension array into 1-D array"
   ]
  },
  {
   "cell_type": "code",
   "execution_count": 91,
   "id": "76f9ebe4-05a3-4bc6-8cae-8b0d17e27c92",
   "metadata": {
    "tags": []
   },
   "outputs": [
    {
     "name": "stdout",
     "output_type": "stream",
     "text": [
      "[[5 6 9 5]\n",
      " [4 6 5 9]\n",
      " [9 1 6 7]]\n",
      "(3, 4)\n",
      "[5 6 9 5 4 6 5 9 9 1 6 7]\n",
      "(12,)\n"
     ]
    }
   ],
   "source": [
    "arr = np.random.randint(1,10,(3,4))\n",
    "print(arr)\n",
    "print(arr.shape)\n",
    "arr = arr.flatten()\n",
    "print(arr)\n",
    "print(arr.shape)"
   ]
  },
  {
   "cell_type": "markdown",
   "id": "36482aed-7707-4b24-b80f-afb23ba317e2",
   "metadata": {},
   "source": [
    "### 12. Copy()\n",
    "If we use = then both var will be pointing at the same location"
   ]
  },
  {
   "cell_type": "code",
   "execution_count": 11,
   "id": "5a7f350b-4497-431f-8522-55540d4a4b88",
   "metadata": {
    "tags": []
   },
   "outputs": [
    {
     "name": "stdout",
     "output_type": "stream",
     "text": [
      "[ 1.33778162 -0.60302185 -0.36751521 -0.37942468  0.32815328] 2217337141072\n",
      "[ 1.33778162 -0.60302185 -0.36751521 -0.37942468  0.32815328] 2217337141072\n",
      "\n",
      "[-1.35577337  0.20699345 -0.2441545  -0.50116919 -1.03901716] 2217277316944\n",
      "[-1.35577337  0.20699345 -0.2441545  -0.50116919 -1.03901716] 2217329218576\n"
     ]
    }
   ],
   "source": [
    "arr = np.random.randn(5)\n",
    "arr1 = arr\n",
    "print(arr,id(arr))\n",
    "print(arr1,id(arr1))\n",
    "\n",
    "print()\n",
    "\n",
    "arr = np.random.randn(5)\n",
    "arr1 = np.copy(arr)\n",
    "print(arr,id(arr))\n",
    "print(arr1,id(arr1))\n"
   ]
  },
  {
   "cell_type": "markdown",
   "id": "a4aff9d7-aea7-4e6c-a84c-418859da95e6",
   "metadata": {},
   "source": [
    "### 13. Max(), Min() and sum()"
   ]
  },
  {
   "cell_type": "code",
   "execution_count": 12,
   "id": "37013a03-c5c3-4666-9fc3-4de804cc4459",
   "metadata": {
    "tags": []
   },
   "outputs": [
    {
     "name": "stdout",
     "output_type": "stream",
     "text": [
      "[2 4 3 2 1]\n"
     ]
    }
   ],
   "source": [
    "arr = np.random.randint(1,10,5)\n",
    "print(arr)"
   ]
  },
  {
   "cell_type": "code",
   "execution_count": 15,
   "id": "30a9a9bc-f1f4-4a0a-8910-44beea229168",
   "metadata": {
    "tags": []
   },
   "outputs": [
    {
     "name": "stdout",
     "output_type": "stream",
     "text": [
      "Sum : 12\n",
      "Min : 1\n",
      "Max : 4\n"
     ]
    }
   ],
   "source": [
    "print('Sum :',arr.sum())\n",
    "print('Min :',arr.min())\n",
    "print('Max :',arr.max())"
   ]
  },
  {
   "cell_type": "code",
   "execution_count": 17,
   "id": "cba4aae4-11a0-4575-b16c-23c8affe7a29",
   "metadata": {
    "tags": []
   },
   "outputs": [
    {
     "name": "stdout",
     "output_type": "stream",
     "text": [
      "[[7 4 8 7 7]\n",
      " [5 5 2 7 3]\n",
      " [3 7 5 1 4]]\n",
      "Col Sum : [15 16 15 15 14]\n",
      "Col Min : [3 4 2 1 3]\n",
      "Col Max : [7 7 8 7 7]\n",
      "Row Sum : [33 22 20]\n",
      "Row Min : [4 2 1]\n",
      "Row Max : [8 7 7]\n"
     ]
    }
   ],
   "source": [
    "arr = np.random.randint(1,10,(3,5))\n",
    "print(arr)\n",
    "print('Col Sum :',arr.sum(0))\n",
    "print('Col Min :',arr.min(0))\n",
    "print('Col Max :',arr.max(0))\n",
    "print('Row Sum :',arr.sum(1))\n",
    "print('Row Min :',arr.min(1))\n",
    "print('Row Max :',arr.max(1))"
   ]
  },
  {
   "cell_type": "markdown",
   "id": "152b2263-b1e7-4563-badc-63d08d833ddf",
   "metadata": {},
   "source": [
    "### 14. Seed Function\n",
    "used to generate pseudo random numbers"
   ]
  },
  {
   "cell_type": "code",
   "execution_count": 20,
   "id": "52b51c8c-2f65-49e7-ac5d-5b68d8ac22b1",
   "metadata": {
    "tags": []
   },
   "outputs": [
    {
     "name": "stdout",
     "output_type": "stream",
     "text": [
      "[9 4 9 9 1]\n"
     ]
    }
   ],
   "source": [
    "np.random.seed(3)\n",
    "arr = np.random.randint(1,10,5)\n",
    "print(arr)"
   ]
  },
  {
   "cell_type": "markdown",
   "id": "689542ee-0072-41c5-981e-37e471a415ca",
   "metadata": {},
   "source": [
    "### 15. Sorting"
   ]
  },
  {
   "cell_type": "code",
   "execution_count": 27,
   "id": "eee560ff-1a61-453e-942e-6b874ba0172c",
   "metadata": {
    "tags": []
   },
   "outputs": [
    {
     "name": "stdout",
     "output_type": "stream",
     "text": [
      "[3 3 5 9 1 7 1 5 2 6]\n",
      "[1 1 2 3 3 5 5 6 7 9]\n"
     ]
    }
   ],
   "source": [
    "arr = np.random.randint(1,10,10)\n",
    "print(arr)\n",
    "arr = np.sort(arr)\n",
    "print(arr)"
   ]
  },
  {
   "cell_type": "code",
   "execution_count": 33,
   "id": "65b18f44-61b4-4f1e-919f-7e3c438f2e67",
   "metadata": {
    "tags": []
   },
   "outputs": [
    {
     "name": "stdout",
     "output_type": "stream",
     "text": [
      "[[9 6 7 8 4]\n",
      " [6 2 9 3 9]\n",
      " [5 6 1 9 8]]\n",
      "----------------------------------------\n",
      "[[4 6 7 8 9]\n",
      " [2 3 6 9 9]\n",
      " [1 5 6 8 9]]\n",
      "----------------------------------------\n",
      "[[1 2 3 4 5]\n",
      " [6 6 6 7 8]\n",
      " [8 9 9 9 9]]\n"
     ]
    }
   ],
   "source": [
    "arr = np.random.randint(1,10,(3,5))\n",
    "print(arr)\n",
    "print('-'*40)\n",
    "\n",
    "arr = np.sort(arr)\n",
    "print(arr)\n",
    "\n",
    "print('-'*40)\n",
    "arr = np.reshape(np.sort(arr.flatten()),arr.shape)\n",
    "print(arr)\n"
   ]
  },
  {
   "cell_type": "markdown",
   "id": "30a2f027-116d-4c68-8ae3-0a65a1e14134",
   "metadata": {},
   "source": [
    "### 16. Mathamatical Operation"
   ]
  },
  {
   "cell_type": "code",
   "execution_count": 40,
   "id": "897ec6cf-77d0-4389-b022-42ba4c11c614",
   "metadata": {
    "tags": []
   },
   "outputs": [
    {
     "name": "stdout",
     "output_type": "stream",
     "text": [
      "[[9 4 9 9 1]\n",
      " [6 4 6 8 7]\n",
      " [1 5 8 9 2]]\n",
      "----------------------------------------\n",
      "[[10  5 10 10  2]\n",
      " [ 7  5  7  9  8]\n",
      " [ 2  6  9 10  3]]\n",
      "----------------------------------------\n",
      "[[8 3 8 8 0]\n",
      " [5 3 5 7 6]\n",
      " [0 4 7 8 1]]\n",
      "----------------------------------------\n",
      "[[18  8 18 18  2]\n",
      " [12  8 12 16 14]\n",
      " [ 2 10 16 18  4]]\n"
     ]
    },
    {
     "data": {
      "text/plain": [
       "array([[19, 22],\n",
       "       [43, 50]])"
      ]
     },
     "execution_count": 40,
     "metadata": {},
     "output_type": "execute_result"
    }
   ],
   "source": [
    "np.random.seed(3)\n",
    "arr = np.random.randint(1,10,(3,5))\n",
    "print(arr)\n",
    "\n",
    "print('-'*40)\n",
    "\n",
    "print(arr+1)\n",
    "\n",
    "print('-'*40)\n",
    "\n",
    "print(arr-1)\n",
    "\n",
    "print('-'*40)\n",
    "\n",
    "print(arr*2)\n",
    "\n",
    "\n",
    "#Matrix Multiplication \n",
    "arr1 = np.array([[1,2],[3,4]])\n",
    "arr2 = np.array([[5,6],[7,8]])\n",
    "arr1.dot(arr2)"
   ]
  },
  {
   "cell_type": "markdown",
   "id": "c2f3d936-3e0a-49ce-b4aa-f0623ae133d6",
   "metadata": {},
   "source": [
    "### 17. Mean, SD and variance"
   ]
  },
  {
   "cell_type": "code",
   "execution_count": 44,
   "id": "7ae89757-a038-4ff1-9a3a-1f7636213518",
   "metadata": {
    "tags": []
   },
   "outputs": [
    {
     "name": "stdout",
     "output_type": "stream",
     "text": [
      "[9 4 9 9 1 6 4 6 8 7]\n",
      "6.3\n",
      "2.5317977802344327\n",
      "6.410000000000001\n"
     ]
    }
   ],
   "source": [
    "np.random.seed(3)\n",
    "\n",
    "arr = np.random.randint(1,10,10)\n",
    "print(arr)\n",
    "print(arr.mean())\n",
    "print(arr.std())\n",
    "print(arr.var())"
   ]
  },
  {
   "cell_type": "markdown",
   "id": "6efa2fbc-45f0-47a1-a161-072958531ac7",
   "metadata": {},
   "source": [
    "### 18. Filtering an numpy array"
   ]
  },
  {
   "cell_type": "code",
   "execution_count": 54,
   "id": "3b67e986-df5a-48f9-a62b-c8a75dfb083b",
   "metadata": {
    "tags": []
   },
   "outputs": [
    {
     "name": "stdout",
     "output_type": "stream",
     "text": [
      "[1 2 3 4 5 6 7 8 9]\n",
      "[ True  True  True  True False False False False False]\n",
      "[  1   2   3   4   5 100 100 100 100]\n"
     ]
    }
   ],
   "source": [
    "arr = np.arange(1,10)\n",
    "print(arr)\n",
    "print(arr < 5)\n",
    "\n",
    "arr[arr>5] = 100\n",
    "print(arr)"
   ]
  },
  {
   "cell_type": "markdown",
   "id": "35a2a6b2-73a1-44a4-9469-74239685306e",
   "metadata": {},
   "source": [
    "### 19. Where(condition, [x,y])"
   ]
  },
  {
   "cell_type": "code",
   "execution_count": 61,
   "id": "1cb381e7-3d3f-485a-be3a-2b34d1623a8f",
   "metadata": {
    "tags": []
   },
   "outputs": [
    {
     "name": "stdout",
     "output_type": "stream",
     "text": [
      "[38 31 49 62 34 53  3 29 37 91]\n",
      "['even' '31' '49' 'even' 'even' '53' '3' '29' '37' '91']\n",
      "['38' 'odd' 'odd' '62' '34' 'odd' 'odd' 'odd' 'odd' 'odd']\n",
      "['even' 'odd' 'odd' 'even' 'even' 'odd' 'odd' 'odd' 'odd' 'odd']\n"
     ]
    }
   ],
   "source": [
    "arr = np.random.randint(1,100,10)\n",
    "print(arr)\n",
    "\n",
    "print(np.where(arr%2==0,'even',arr))\n",
    "print(np.where(arr%2!=0,'odd',arr))\n",
    "\n",
    "arr1 = np.where(arr%2==0,'even',arr)\n",
    "arr1 = np.where(arr%2!=0,'odd',arr1)\n",
    "print(arr1)"
   ]
  },
  {
   "cell_type": "markdown",
   "id": "ce9ddbbc-fadd-46d7-a8eb-30e2432f7888",
   "metadata": {},
   "source": [
    "### 20. Turning Pic into numpy array"
   ]
  },
  {
   "cell_type": "code",
   "execution_count": 63,
   "id": "431ef89b-94e1-462f-a90d-0bd9bc8b0f4f",
   "metadata": {
    "tags": []
   },
   "outputs": [
    {
     "data": {
      "text/html": [
       "<img src=\"Pic.jpg\" width=\"300\" height=\"300\"/>"
      ],
      "text/plain": [
       "<IPython.core.display.Image object>"
      ]
     },
     "execution_count": 63,
     "metadata": {},
     "output_type": "execute_result"
    }
   ],
   "source": [
    "from IPython.display import Image \n",
    "  \n",
    "# get the image \n",
    "Image(url=\"Pic.jpg\", width=300, height=300) "
   ]
  },
  {
   "cell_type": "code",
   "execution_count": 64,
   "id": "a3e586fd-a585-49d7-ae79-c04cfcba169c",
   "metadata": {
    "tags": []
   },
   "outputs": [
    {
     "data": {
      "text/plain": [
       "(1488, 1984, 3)"
      ]
     },
     "execution_count": 64,
     "metadata": {},
     "output_type": "execute_result"
    }
   ],
   "source": [
    "from matplotlib.image import imread as ir\n",
    "img = ir('Pic.jpg')\n",
    "img.shape #(height, width, rgb channel)"
   ]
  },
  {
   "cell_type": "code",
   "execution_count": 65,
   "id": "6106fe66-0f7c-45c0-a3cd-490757c29300",
   "metadata": {
    "tags": []
   },
   "outputs": [
    {
     "name": "stdout",
     "output_type": "stream",
     "text": [
      "[[[196 195 193]\n",
      "  [197 196 194]\n",
      "  [193 192 190]\n",
      "  ...\n",
      "  [180 176 177]\n",
      "  [180 176 177]\n",
      "  [178 174 175]]\n",
      "\n",
      " [[195 194 192]\n",
      "  [197 196 194]\n",
      "  [198 197 195]\n",
      "  ...\n",
      "  [178 174 175]\n",
      "  [179 175 176]\n",
      "  [180 176 177]]\n",
      "\n",
      " [[198 197 195]\n",
      "  [199 198 196]\n",
      "  [199 198 196]\n",
      "  ...\n",
      "  [182 178 179]\n",
      "  [178 174 175]\n",
      "  [177 173 174]]\n",
      "\n",
      " ...\n",
      "\n",
      " [[168 160 149]\n",
      "  [167 159 148]\n",
      "  [167 159 148]\n",
      "  ...\n",
      "  [151 141 129]\n",
      "  [150 140 128]\n",
      "  [150 140 128]]\n",
      "\n",
      " [[167 159 148]\n",
      "  [166 158 147]\n",
      "  [167 159 148]\n",
      "  ...\n",
      "  [151 141 129]\n",
      "  [151 141 129]\n",
      "  [152 142 130]]\n",
      "\n",
      " [[165 157 146]\n",
      "  [166 158 147]\n",
      "  [168 160 149]\n",
      "  ...\n",
      "  [148 138 126]\n",
      "  [148 138 126]\n",
      "  [150 140 128]]]\n"
     ]
    }
   ],
   "source": [
    "print(img)"
   ]
  }
 ],
 "metadata": {
  "kernelspec": {
   "display_name": "Python 3 (ipykernel)",
   "language": "python",
   "name": "python3"
  },
  "language_info": {
   "codemirror_mode": {
    "name": "ipython",
    "version": 3
   },
   "file_extension": ".py",
   "mimetype": "text/x-python",
   "name": "python",
   "nbconvert_exporter": "python",
   "pygments_lexer": "ipython3",
   "version": "3.11.5"
  }
 },
 "nbformat": 4,
 "nbformat_minor": 5
}
