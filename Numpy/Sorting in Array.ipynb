{
 "cells": [
  {
   "cell_type": "code",
   "execution_count": 1,
   "id": "70a24751-56f4-42cf-a957-11820c440b75",
   "metadata": {
    "tags": []
   },
   "outputs": [],
   "source": [
    "import numpy as np"
   ]
  },
  {
   "cell_type": "code",
   "execution_count": 7,
   "id": "69a9b389-eac9-41e0-9498-a089393929ec",
   "metadata": {
    "tags": []
   },
   "outputs": [],
   "source": [
    "arr = np.array([[4,2,5,6,7],\n",
    "         [8,1,3,7,2],\n",
    "         [0,8,4,3,2]])"
   ]
  },
  {
   "cell_type": "code",
   "execution_count": 11,
   "id": "3a39af1e-f2dc-4dc2-8e42-4b49260d3fc7",
   "metadata": {
    "tags": []
   },
   "outputs": [
    {
     "data": {
      "text/plain": [
       "array([[2, 4, 5, 6, 7],\n",
       "       [1, 2, 3, 7, 8],\n",
       "       [0, 2, 3, 4, 8]])"
      ]
     },
     "execution_count": 11,
     "metadata": {},
     "output_type": "execute_result"
    }
   ],
   "source": [
    "# arr.sort() this will sort only the rows of array \n",
    "np.sort(arr, axis = 1, kind='mergesort') #similar to above"
   ]
  },
  {
   "cell_type": "code",
   "execution_count": 14,
   "id": "e9b46b90-4922-4c67-b4ff-81497c05eda3",
   "metadata": {
    "tags": []
   },
   "outputs": [
    {
     "data": {
      "text/plain": [
       "array([[0, 1, 3, 3, 2],\n",
       "       [4, 2, 4, 6, 2],\n",
       "       [8, 8, 5, 7, 7]])"
      ]
     },
     "execution_count": 14,
     "metadata": {},
     "output_type": "execute_result"
    }
   ],
   "source": [
    "np.sort(arr, axis = 0, kind='quicksort') # sorts array elements column wise"
   ]
  },
  {
   "cell_type": "code",
   "execution_count": 15,
   "id": "1acefe2a-34a8-4b2f-a874-e21512a140cb",
   "metadata": {
    "tags": []
   },
   "outputs": [
    {
     "data": {
      "text/plain": [
       "array([[2, 4, 5, 6, 7],\n",
       "       [1, 2, 3, 7, 8],\n",
       "       [0, 2, 3, 4, 8]])"
      ]
     },
     "execution_count": 15,
     "metadata": {},
     "output_type": "execute_result"
    }
   ],
   "source": [
    "np.sort(arr)"
   ]
  },
  {
   "cell_type": "code",
   "execution_count": 16,
   "id": "cb5b4684-eac7-4b48-bf21-9840ae67eab4",
   "metadata": {
    "tags": []
   },
   "outputs": [
    {
     "data": {
      "text/plain": [
       "array([[2, 4, 5, 6, 7],\n",
       "       [1, 2, 3, 7, 8],\n",
       "       [0, 2, 3, 4, 8]])"
      ]
     },
     "execution_count": 16,
     "metadata": {},
     "output_type": "execute_result"
    }
   ],
   "source": [
    "np.sort(arr,kind='heapsort')"
   ]
  },
  {
   "cell_type": "markdown",
   "id": "094a6227-e13f-4e22-ae18-647964325ddf",
   "metadata": {},
   "source": [
    "## decending order"
   ]
  },
  {
   "cell_type": "code",
   "execution_count": 2,
   "id": "5db10c0e-88d8-4251-bad0-70f23d408ed5",
   "metadata": {
    "tags": []
   },
   "outputs": [],
   "source": [
    "arr = np.array((1,2,3,4,5))"
   ]
  },
  {
   "cell_type": "code",
   "execution_count": 6,
   "id": "8d357d34-c9be-4186-802f-4bce8f4277dd",
   "metadata": {
    "tags": []
   },
   "outputs": [
    {
     "data": {
      "text/plain": [
       "array([5, 4, 3, 2, 1])"
      ]
     },
     "execution_count": 6,
     "metadata": {},
     "output_type": "execute_result"
    }
   ],
   "source": [
    "np.sort(arr)[::-1]"
   ]
  },
  {
   "cell_type": "code",
   "execution_count": null,
   "id": "d16f7e54-fd97-44c6-909b-9c25c9b31969",
   "metadata": {},
   "outputs": [],
   "source": []
  }
 ],
 "metadata": {
  "kernelspec": {
   "display_name": "Python 3 (ipykernel)",
   "language": "python",
   "name": "python3"
  },
  "language_info": {
   "codemirror_mode": {
    "name": "ipython",
    "version": 3
   },
   "file_extension": ".py",
   "mimetype": "text/x-python",
   "name": "python",
   "nbconvert_exporter": "python",
   "pygments_lexer": "ipython3",
   "version": "3.11.5"
  }
 },
 "nbformat": 4,
 "nbformat_minor": 5
}
