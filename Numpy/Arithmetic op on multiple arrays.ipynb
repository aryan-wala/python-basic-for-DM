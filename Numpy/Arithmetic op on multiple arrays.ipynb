{
 "cells": [
  {
   "cell_type": "code",
   "execution_count": 1,
   "id": "a9314155-5d76-4414-8fa6-90ac3cacd761",
   "metadata": {
    "tags": []
   },
   "outputs": [],
   "source": [
    "import numpy as np"
   ]
  },
  {
   "cell_type": "code",
   "execution_count": 22,
   "id": "fa618f96-7b39-4e55-a8b7-14a05ff4e03f",
   "metadata": {
    "tags": []
   },
   "outputs": [],
   "source": [
    "arr1 = np.array([[1,2,3],\n",
    "                [4,5,6],\n",
    "                [7,8,9]])\n",
    "arr2 = np.array([[9,8,7],\n",
    "                [6,5,4],\n",
    "                [3,2,1]])\n",
    "arr3 = np.array([[9,8,7,4],\n",
    "                [6,5,4,2],\n",
    "                [3,2,1,5]])"
   ]
  },
  {
   "cell_type": "code",
   "execution_count": 4,
   "id": "5b64cec3-2079-4661-9777-a98e36bf2e95",
   "metadata": {
    "tags": []
   },
   "outputs": [
    {
     "name": "stdout",
     "output_type": "stream",
     "text": [
      "[[10 10 10]\n",
      " [10 10 10]\n",
      " [10 10 10]]\n"
     ]
    }
   ],
   "source": [
    "print(arr1 + arr2)"
   ]
  },
  {
   "cell_type": "code",
   "execution_count": 6,
   "id": "b1c8d4c4-9e54-45f0-8c62-2c29ca60f06e",
   "metadata": {
    "tags": []
   },
   "outputs": [
    {
     "ename": "NameError",
     "evalue": "name 'arr3' is not defined",
     "output_type": "error",
     "traceback": [
      "\u001b[1;31m---------------------------------------------------------------------------\u001b[0m",
      "\u001b[1;31mNameError\u001b[0m                                 Traceback (most recent call last)",
      "Cell \u001b[1;32mIn[6], line 1\u001b[0m\n\u001b[1;32m----> 1\u001b[0m \u001b[38;5;28mprint\u001b[39m(arr1 \u001b[38;5;241m+\u001b[39m arr3)\n",
      "\u001b[1;31mNameError\u001b[0m: name 'arr3' is not defined"
     ]
    }
   ],
   "source": [
    "# print(arr1 + arr3) gives an error"
   ]
  },
  {
   "cell_type": "code",
   "execution_count": 7,
   "id": "a57e7ef4-f4d5-4457-9d6b-33c742af3686",
   "metadata": {
    "tags": []
   },
   "outputs": [
    {
     "name": "stdout",
     "output_type": "stream",
     "text": [
      "[[ 9 16 21]\n",
      " [24 25 24]\n",
      " [21 16  9]]\n"
     ]
    }
   ],
   "source": [
    "print(arr1 * arr2)"
   ]
  },
  {
   "cell_type": "code",
   "execution_count": 11,
   "id": "2d24c2b0-702e-4ad5-8926-2e5c8c57f676",
   "metadata": {
    "tags": []
   },
   "outputs": [
    {
     "name": "stdout",
     "output_type": "stream",
     "text": [
      "[[ 30  24  18]\n",
      " [ 84  69  54]\n",
      " [138 114  90]]\n"
     ]
    }
   ],
   "source": [
    "print(arr1.dot(arr2)) # the dot operation => 1*9 + 2*6 + 3*3"
   ]
  },
  {
   "cell_type": "code",
   "execution_count": 13,
   "id": "71c586db-e990-46ef-9cf8-471a982c00c7",
   "metadata": {
    "tags": []
   },
   "outputs": [
    {
     "name": "stdout",
     "output_type": "stream",
     "text": [
      "[[ 90 114 138]\n",
      " [ 54  69  84]\n",
      " [ 18  24  30]]\n"
     ]
    }
   ],
   "source": [
    "print(arr2.dot(arr1))"
   ]
  },
  {
   "cell_type": "markdown",
   "id": "2fb3ea80-610b-4890-89ed-91968abf9451",
   "metadata": {},
   "source": [
    " ## Indenxing and Slicing of array"
   ]
  },
  {
   "cell_type": "code",
   "execution_count": 25,
   "id": "bdcf09d9-03f9-41e3-a057-3edf5bd750f0",
   "metadata": {
    "tags": []
   },
   "outputs": [],
   "source": [
    "arr = np.array([1,2,3,4,5])"
   ]
  },
  {
   "cell_type": "code",
   "execution_count": 16,
   "id": "17112f46-6f47-459a-af9c-3ed0371527fd",
   "metadata": {
    "tags": []
   },
   "outputs": [
    {
     "name": "stdout",
     "output_type": "stream",
     "text": [
      "1 5 3\n"
     ]
    }
   ],
   "source": [
    "print(arr[0],arr[4],arr[2])"
   ]
  },
  {
   "cell_type": "code",
   "execution_count": 20,
   "id": "2e118f3d-7ad2-42e8-adb3-1b3b741c99d3",
   "metadata": {
    "tags": []
   },
   "outputs": [
    {
     "name": "stdout",
     "output_type": "stream",
     "text": [
      "[1 2 3 4]\n",
      "[5 4 3 2 1]\n",
      "[3]\n",
      "[1 2 3 4 5]\n"
     ]
    }
   ],
   "source": [
    "print(arr[:-1])\n",
    "print(arr[::-1])\n",
    "print(arr[2:-2]) \n",
    "print(arr[0:])"
   ]
  },
  {
   "cell_type": "code",
   "execution_count": 23,
   "id": "65900db1-27cb-48e9-850a-527ada65f3c3",
   "metadata": {
    "tags": []
   },
   "outputs": [],
   "source": [
    "arr1 = np.array([[1,2,3],\n",
    "                [4,5,6],\n",
    "                [7,8,9]])"
   ]
  },
  {
   "cell_type": "code",
   "execution_count": 29,
   "id": "f4666413-cc2a-418d-9a4f-34bb7705a054",
   "metadata": {
    "tags": []
   },
   "outputs": [
    {
     "name": "stdout",
     "output_type": "stream",
     "text": [
      "1\n",
      "[[1 2 3]\n",
      " [4 5 6]\n",
      " [7 8 9]]\n",
      "[[1 2 3]\n",
      " [4 5 6]\n",
      " [7 8 9]]\n"
     ]
    }
   ],
   "source": [
    "print(arr1[0][0])\n",
    "print(arr1[:,:]) #the first : is used for rows and second is used for columns\n",
    "print(arr1[:])"
   ]
  },
  {
   "cell_type": "code",
   "execution_count": 33,
   "id": "60397571-514c-4de7-9ff5-66c555c36c8a",
   "metadata": {
    "tags": []
   },
   "outputs": [
    {
     "name": "stdout",
     "output_type": "stream",
     "text": [
      "[[1]\n",
      " [4]\n",
      " [7]]\n"
     ]
    }
   ],
   "source": [
    "print(arr1[:,:1])"
   ]
  },
  {
   "cell_type": "code",
   "execution_count": 40,
   "id": "189566e4-5441-4d88-b796-a1beff567764",
   "metadata": {
    "tags": []
   },
   "outputs": [
    {
     "name": "stdout",
     "output_type": "stream",
     "text": [
      "[[1 2 3]]\n"
     ]
    }
   ],
   "source": [
    "print(arr1[:1,:])"
   ]
  },
  {
   "cell_type": "code",
   "execution_count": 34,
   "id": "8a956761-0e76-4755-a511-b03d07507a94",
   "metadata": {
    "tags": []
   },
   "outputs": [
    {
     "name": "stdout",
     "output_type": "stream",
     "text": [
      "[[4]\n",
      " [7]]\n"
     ]
    }
   ],
   "source": [
    "print(arr1[1:,:1])"
   ]
  },
  {
   "cell_type": "code",
   "execution_count": 35,
   "id": "34a1f3d7-d5ad-4129-a71f-83006f3b7604",
   "metadata": {
    "tags": []
   },
   "outputs": [
    {
     "name": "stdout",
     "output_type": "stream",
     "text": [
      "[[1]]\n"
     ]
    }
   ],
   "source": [
    "print(arr1[:1,:1])"
   ]
  },
  {
   "cell_type": "code",
   "execution_count": 36,
   "id": "688bef6a-66e6-4b4d-8104-26f573352bf5",
   "metadata": {
    "tags": []
   },
   "outputs": [
    {
     "name": "stdout",
     "output_type": "stream",
     "text": [
      "[[1 2]\n",
      " [4 5]\n",
      " [7 8]]\n"
     ]
    }
   ],
   "source": [
    "print(arr1[:,:-1])"
   ]
  },
  {
   "cell_type": "code",
   "execution_count": 37,
   "id": "fce9e7ee-b0d8-4519-8e3d-7a2c360049ee",
   "metadata": {
    "tags": []
   },
   "outputs": [
    {
     "name": "stdout",
     "output_type": "stream",
     "text": [
      "[[3 2 1]\n",
      " [6 5 4]\n",
      " [9 8 7]]\n"
     ]
    }
   ],
   "source": [
    "print(arr1[:,::-1])"
   ]
  },
  {
   "cell_type": "code",
   "execution_count": 38,
   "id": "1ec59521-4b75-4df0-b6af-c65fe6250658",
   "metadata": {
    "tags": []
   },
   "outputs": [
    {
     "name": "stdout",
     "output_type": "stream",
     "text": [
      "[[7 8 9]\n",
      " [4 5 6]\n",
      " [1 2 3]]\n"
     ]
    }
   ],
   "source": [
    "print(arr1[::-1,:])"
   ]
  },
  {
   "cell_type": "code",
   "execution_count": 39,
   "id": "3d06198e-3079-4977-82eb-8f9b6c6c781e",
   "metadata": {
    "tags": []
   },
   "outputs": [
    {
     "name": "stdout",
     "output_type": "stream",
     "text": [
      "[[9 8 7]\n",
      " [6 5 4]\n",
      " [3 2 1]]\n"
     ]
    }
   ],
   "source": [
    "print(arr1[::-1,::-1])"
   ]
  },
  {
   "cell_type": "code",
   "execution_count": null,
   "id": "2ced4f68-d028-4188-a772-7302145930bf",
   "metadata": {},
   "outputs": [],
   "source": []
  }
 ],
 "metadata": {
  "kernelspec": {
   "display_name": "Python 3 (ipykernel)",
   "language": "python",
   "name": "python3"
  },
  "language_info": {
   "codemirror_mode": {
    "name": "ipython",
    "version": 3
   },
   "file_extension": ".py",
   "mimetype": "text/x-python",
   "name": "python",
   "nbconvert_exporter": "python",
   "pygments_lexer": "ipython3",
   "version": "3.11.5"
  }
 },
 "nbformat": 4,
 "nbformat_minor": 5
}
