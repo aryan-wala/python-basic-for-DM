{
 "cells": [
  {
   "cell_type": "code",
   "execution_count": 1,
   "id": "4042e4b9-bb49-4924-9ee9-5ddd9d0fb047",
   "metadata": {
    "tags": []
   },
   "outputs": [],
   "source": [
    "import numpy as np"
   ]
  },
  {
   "cell_type": "code",
   "execution_count": 2,
   "id": "dfa59d34-64cf-41bc-ad49-2f58a07f98fc",
   "metadata": {
    "tags": []
   },
   "outputs": [],
   "source": [
    "arr1 = ([[1,2,3,4],[5,6,7,8]])\n",
    "arr2 = ([[8,7,6,5],[4,3,2,1]])"
   ]
  },
  {
   "cell_type": "markdown",
   "id": "fb1cbdd3-d82a-4b57-944c-496d4f9154cd",
   "metadata": {},
   "source": [
    "## Concatenation array"
   ]
  },
  {
   "cell_type": "markdown",
   "id": "393c0b0e-1c73-4223-9d11-db8e0fe34d9d",
   "metadata": {},
   "source": [
    "### using hstack and vstack"
   ]
  },
  {
   "cell_type": "code",
   "execution_count": 4,
   "id": "66f539a2-7186-4ce2-b288-51b7d47e1aeb",
   "metadata": {
    "tags": []
   },
   "outputs": [
    {
     "data": {
      "text/plain": [
       "array([[1, 2, 3, 4],\n",
       "       [5, 6, 7, 8],\n",
       "       [8, 7, 6, 5],\n",
       "       [4, 3, 2, 1]])"
      ]
     },
     "execution_count": 4,
     "metadata": {},
     "output_type": "execute_result"
    }
   ],
   "source": [
    "np.vstack((arr1,arr2))"
   ]
  },
  {
   "cell_type": "code",
   "execution_count": 5,
   "id": "a92e25e8-8f58-47b3-87ef-9d3bfba2cec8",
   "metadata": {
    "tags": []
   },
   "outputs": [
    {
     "data": {
      "text/plain": [
       "array([[8, 7, 6, 5],\n",
       "       [4, 3, 2, 1],\n",
       "       [1, 2, 3, 4],\n",
       "       [5, 6, 7, 8]])"
      ]
     },
     "execution_count": 5,
     "metadata": {},
     "output_type": "execute_result"
    }
   ],
   "source": [
    "np.vstack((arr2,arr1))"
   ]
  },
  {
   "cell_type": "code",
   "execution_count": 6,
   "id": "6156e87b-3f73-4e86-a01f-8a5fd07ec137",
   "metadata": {
    "tags": []
   },
   "outputs": [
    {
     "data": {
      "text/plain": [
       "array([[1, 2, 3, 4, 8, 7, 6, 5],\n",
       "       [5, 6, 7, 8, 4, 3, 2, 1]])"
      ]
     },
     "execution_count": 6,
     "metadata": {},
     "output_type": "execute_result"
    }
   ],
   "source": [
    "np.hstack((arr1,arr2))"
   ]
  },
  {
   "cell_type": "code",
   "execution_count": 7,
   "id": "af7617b9-d361-4072-821b-46156e990df2",
   "metadata": {
    "tags": []
   },
   "outputs": [
    {
     "data": {
      "text/plain": [
       "array([[8, 7, 6, 5, 1, 2, 3, 4],\n",
       "       [4, 3, 2, 1, 5, 6, 7, 8]])"
      ]
     },
     "execution_count": 7,
     "metadata": {},
     "output_type": "execute_result"
    }
   ],
   "source": [
    "np.hstack((arr2,arr1))"
   ]
  },
  {
   "cell_type": "markdown",
   "id": "8c828ef3-2b0a-4a26-ac04-4ba6e6a32dd2",
   "metadata": {},
   "source": [
    "### using concatenate"
   ]
  },
  {
   "cell_type": "code",
   "execution_count": 8,
   "id": "a802a865-3834-4a0f-97ca-46a230b371af",
   "metadata": {
    "tags": []
   },
   "outputs": [
    {
     "data": {
      "text/plain": [
       "array([[1, 2, 3, 4],\n",
       "       [5, 6, 7, 8],\n",
       "       [8, 7, 6, 5],\n",
       "       [4, 3, 2, 1]])"
      ]
     },
     "execution_count": 8,
     "metadata": {},
     "output_type": "execute_result"
    }
   ],
   "source": [
    "np.concatenate((arr1,arr2)) # by default axis = 0"
   ]
  },
  {
   "cell_type": "code",
   "execution_count": 9,
   "id": "4c7cc17e-c947-4801-ae6b-fa0e5e397789",
   "metadata": {
    "tags": []
   },
   "outputs": [
    {
     "data": {
      "text/plain": [
       "array([[1, 2, 3, 4, 8, 7, 6, 5],\n",
       "       [5, 6, 7, 8, 4, 3, 2, 1]])"
      ]
     },
     "execution_count": 9,
     "metadata": {},
     "output_type": "execute_result"
    }
   ],
   "source": [
    "np.concatenate((arr1,arr2),axis = 1)"
   ]
  },
  {
   "cell_type": "markdown",
   "id": "c29539cb-96ce-46ec-a4a8-a667617ec574",
   "metadata": {},
   "source": [
    "### Concatination of muldi D array"
   ]
  },
  {
   "cell_type": "code",
   "execution_count": 5,
   "id": "7bcbe8a3-c4ee-42ca-b44b-fd0490bc372a",
   "metadata": {
    "tags": []
   },
   "outputs": [
    {
     "data": {
      "text/plain": [
       "array([[1, 2],\n",
       "       [3, 4],\n",
       "       [5, 6]])"
      ]
     },
     "execution_count": 5,
     "metadata": {},
     "output_type": "execute_result"
    }
   ],
   "source": [
    "import numpy as np\n",
    "a = np.array([[1,2],[3,4]])\n",
    "b = np.array([[5,6]])\n",
    "np.concatenate((a,b),axis = 0)"
   ]
  },
  {
   "cell_type": "markdown",
   "id": "8c2a26eb-49be-40c2-93dc-4ddea12a0de6",
   "metadata": {},
   "source": [
    "## Splitting array"
   ]
  },
  {
   "cell_type": "code",
   "execution_count": 10,
   "id": "49222d3b-79e8-4d04-9f28-2bc36accd533",
   "metadata": {
    "tags": []
   },
   "outputs": [],
   "source": [
    "arr = np.concatenate((arr1,arr2))"
   ]
  },
  {
   "cell_type": "code",
   "execution_count": 11,
   "id": "ed2413fc-9e03-4143-9270-22cb681b826a",
   "metadata": {
    "tags": []
   },
   "outputs": [
    {
     "data": {
      "text/plain": [
       "array([[1, 2, 3, 4],\n",
       "       [5, 6, 7, 8],\n",
       "       [8, 7, 6, 5],\n",
       "       [4, 3, 2, 1]])"
      ]
     },
     "execution_count": 11,
     "metadata": {},
     "output_type": "execute_result"
    }
   ],
   "source": [
    "arr"
   ]
  },
  {
   "cell_type": "code",
   "execution_count": 12,
   "id": "164db1a9-04a1-4f2e-97a5-333481fd1e2a",
   "metadata": {
    "tags": []
   },
   "outputs": [
    {
     "data": {
      "text/plain": [
       "[array([[1, 2],\n",
       "        [5, 6],\n",
       "        [8, 7],\n",
       "        [4, 3]]),\n",
       " array([[3, 4],\n",
       "        [7, 8],\n",
       "        [6, 5],\n",
       "        [2, 1]])]"
      ]
     },
     "execution_count": 12,
     "metadata": {},
     "output_type": "execute_result"
    }
   ],
   "source": [
    "np.hsplit(arr,2)"
   ]
  },
  {
   "cell_type": "code",
   "execution_count": 15,
   "id": "a88591d5-9d1a-4e9d-a9d2-2421d963d530",
   "metadata": {
    "tags": []
   },
   "outputs": [
    {
     "data": {
      "text/plain": [
       "[array([[1, 2, 3, 4],\n",
       "        [5, 6, 7, 8]]),\n",
       " array([[8, 7, 6, 5],\n",
       "        [4, 3, 2, 1]])]"
      ]
     },
     "execution_count": 15,
     "metadata": {},
     "output_type": "execute_result"
    }
   ],
   "source": [
    "np.vsplit(arr,2) # np.vsplit(arr,3) gives error we can only split in equal parts"
   ]
  },
  {
   "cell_type": "code",
   "execution_count": 16,
   "id": "a37b0024-b87f-4b74-ba91-a2fa00fda163",
   "metadata": {
    "tags": []
   },
   "outputs": [
    {
     "data": {
      "text/plain": [
       "[array([[1, 2, 3, 4],\n",
       "        [5, 6, 7, 8],\n",
       "        [8, 7, 6, 5],\n",
       "        [4, 3, 2, 1]])]"
      ]
     },
     "execution_count": 16,
     "metadata": {},
     "output_type": "execute_result"
    }
   ],
   "source": [
    "np.vsplit(arr,1)"
   ]
  },
  {
   "cell_type": "code",
   "execution_count": 17,
   "id": "4c2acccb-0524-4f8e-a808-3c58aec4f14c",
   "metadata": {
    "tags": []
   },
   "outputs": [
    {
     "data": {
      "text/plain": [
       "[array([[1, 2, 3, 4]]),\n",
       " array([[5, 6, 7, 8]]),\n",
       " array([[8, 7, 6, 5]]),\n",
       " array([[4, 3, 2, 1]])]"
      ]
     },
     "execution_count": 17,
     "metadata": {},
     "output_type": "execute_result"
    }
   ],
   "source": [
    "np.vsplit(arr,4)"
   ]
  },
  {
   "cell_type": "markdown",
   "id": "f7376f20-4fa7-4833-bdd5-eca123c054ff",
   "metadata": {},
   "source": [
    "## column_stack"
   ]
  },
  {
   "cell_type": "code",
   "execution_count": 6,
   "id": "8102f69c-d99f-4b84-b4f5-a8b8c7367a64",
   "metadata": {
    "tags": []
   },
   "outputs": [],
   "source": [
    "import numpy as np"
   ]
  },
  {
   "cell_type": "code",
   "execution_count": 9,
   "id": "03a43a4d-f958-4e6e-b587-6287b94a81e2",
   "metadata": {
    "tags": []
   },
   "outputs": [
    {
     "name": "stdout",
     "output_type": "stream",
     "text": [
      "[[1 2 3 6 5 4]\n",
      " [4 5 6 3 2 1]]\n"
     ]
    }
   ],
   "source": [
    "arr1 = np.array([[1,2,3],[4,5,6]])\n",
    "arr2 = np.array([[6,5,4],[3,2,1]])\n",
    "arr = np.column_stack([arr1,arr2])\n",
    "print(arr)\n"
   ]
  },
  {
   "cell_type": "code",
   "execution_count": 12,
   "id": "33c4b06c-4a17-41a2-bd70-75006267bc6d",
   "metadata": {
    "tags": []
   },
   "outputs": [
    {
     "name": "stdout",
     "output_type": "stream",
     "text": [
      "[6]\n"
     ]
    }
   ],
   "source": [
    "print(arr1[arr1 > 5])"
   ]
  },
  {
   "cell_type": "code",
   "execution_count": null,
   "id": "6e30e24a-190c-4fb5-842a-f1825e149969",
   "metadata": {},
   "outputs": [],
   "source": []
  }
 ],
 "metadata": {
  "kernelspec": {
   "display_name": "Python 3 (ipykernel)",
   "language": "python",
   "name": "python3"
  },
  "language_info": {
   "codemirror_mode": {
    "name": "ipython",
    "version": 3
   },
   "file_extension": ".py",
   "mimetype": "text/x-python",
   "name": "python",
   "nbconvert_exporter": "python",
   "pygments_lexer": "ipython3",
   "version": "3.11.5"
  }
 },
 "nbformat": 4,
 "nbformat_minor": 5
}
