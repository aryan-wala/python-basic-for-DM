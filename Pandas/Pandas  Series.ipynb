{
 "cells": [
  {
   "cell_type": "code",
   "execution_count": 1,
   "id": "372e7046-c69c-48fc-a3d5-13ebb28455ac",
   "metadata": {
    "tags": []
   },
   "outputs": [
    {
     "name": "stdout",
     "output_type": "stream",
     "text": [
      "Requirement already satisfied: pandas in c:\\users\\aryan\\anaconda3\\lib\\site-packages (2.0.3)\n",
      "Requirement already satisfied: python-dateutil>=2.8.2 in c:\\users\\aryan\\anaconda3\\lib\\site-packages (from pandas) (2.8.2)\n",
      "Requirement already satisfied: pytz>=2020.1 in c:\\users\\aryan\\anaconda3\\lib\\site-packages (from pandas) (2023.3.post1)\n",
      "Requirement already satisfied: tzdata>=2022.1 in c:\\users\\aryan\\anaconda3\\lib\\site-packages (from pandas) (2023.3)\n",
      "Requirement already satisfied: numpy>=1.21.0 in c:\\users\\aryan\\anaconda3\\lib\\site-packages (from pandas) (1.24.3)\n",
      "Requirement already satisfied: six>=1.5 in c:\\users\\aryan\\anaconda3\\lib\\site-packages (from python-dateutil>=2.8.2->pandas) (1.16.0)\n"
     ]
    }
   ],
   "source": [
    "!pip install pandas"
   ]
  },
  {
   "cell_type": "code",
   "execution_count": 5,
   "id": "bd9aea19-3598-4008-9d47-6c20c2d199ab",
   "metadata": {
    "tags": []
   },
   "outputs": [],
   "source": [
    "import numpy as np\n",
    "import pandas as pd"
   ]
  },
  {
   "cell_type": "markdown",
   "id": "9a9a698a-f45b-442a-a442-79aa9a0157c9",
   "metadata": {},
   "source": [
    "### 1. Creating a series\n",
    "Series is a one-D labeled array capable of holding data of any type."
   ]
  },
  {
   "cell_type": "markdown",
   "id": "e49955aa-a6e2-4777-94a9-4c061ce28d1d",
   "metadata": {},
   "source": [
    "#### Series through list"
   ]
  },
  {
   "cell_type": "code",
   "execution_count": 4,
   "id": "9ac87182-4722-49e7-aaf0-8c46f75e53f3",
   "metadata": {
    "tags": []
   },
   "outputs": [
    {
     "name": "stdout",
     "output_type": "stream",
     "text": [
      "0    1\n",
      "1    2\n",
      "2    3\n",
      "3    4\n",
      "4    5\n",
      "dtype: int64\n"
     ]
    }
   ],
   "source": [
    "lst = [1,2,3,4,5]\n",
    "s = pd.Series(lst)\n",
    "print(s)"
   ]
  },
  {
   "cell_type": "markdown",
   "id": "c5df40ef-41d1-44dd-8f34-44d64b967383",
   "metadata": {},
   "source": [
    "#### Series through array"
   ]
  },
  {
   "cell_type": "code",
   "execution_count": 6,
   "id": "c777e94c-3022-4f7b-8138-6e472e8ba0d6",
   "metadata": {
    "tags": []
   },
   "outputs": [
    {
     "name": "stdout",
     "output_type": "stream",
     "text": [
      "0    5\n",
      "1    3\n",
      "2    4\n",
      "3    2\n",
      "4    1\n",
      "dtype: int32\n"
     ]
    }
   ],
   "source": [
    "arr = np.array([5,3,4,2,1])\n",
    "s1 = pd.Series(arr)\n",
    "print(s1)"
   ]
  },
  {
   "cell_type": "markdown",
   "id": "e71208fe-0e84-4165-a28e-156989f64798",
   "metadata": {},
   "source": [
    "#### Series with our own index"
   ]
  },
  {
   "cell_type": "code",
   "execution_count": 9,
   "id": "8fd1d0dc-598c-42c1-b6bc-55f2510b7a0f",
   "metadata": {
    "tags": []
   },
   "outputs": [
    {
     "name": "stdout",
     "output_type": "stream",
     "text": [
      "4    aryan\n",
      "2     wala\n",
      "3     best\n",
      "dtype: object\n"
     ]
    }
   ],
   "source": [
    "s = pd.Series(data = ['aryan','wala','best'], index = [4,2,3])\n",
    "print(s)"
   ]
  },
  {
   "cell_type": "markdown",
   "id": "d503136c-8ec3-462c-8409-b3989566b5c3",
   "metadata": {},
   "source": [
    "#### Series through Dict"
   ]
  },
  {
   "cell_type": "code",
   "execution_count": 11,
   "id": "d748780f-99b2-4132-8b03-87aad6dad4f4",
   "metadata": {
    "tags": []
   },
   "outputs": [
    {
     "data": {
      "text/plain": [
       "day_1    5000\n",
       "day_2    4050\n",
       "dat_3    5600\n",
       "dtype: int64"
      ]
     },
     "execution_count": 11,
     "metadata": {},
     "output_type": "execute_result"
    }
   ],
   "source": [
    "dic = {'day_1' : 5000,\n",
    "      'day_2' : 4050,\n",
    "      'dat_3': 5600}\n",
    "pd.Series(dic)"
   ]
  },
  {
   "cell_type": "markdown",
   "id": "66efc6dc-87f4-44c7-8a47-f4b72ffb9e53",
   "metadata": {},
   "source": [
    "#### Series using repeat\n",
    "It repeats the elements of a Series. It returns new series where each no is repeated given no of times"
   ]
  },
  {
   "cell_type": "code",
   "execution_count": 12,
   "id": "e870fb61-9840-4e69-8fa7-b605237a59f3",
   "metadata": {
    "tags": []
   },
   "outputs": [
    {
     "data": {
      "text/plain": [
       "0    4\n",
       "0    4\n",
       "0    4\n",
       "0    4\n",
       "dtype: int64"
      ]
     },
     "execution_count": 12,
     "metadata": {},
     "output_type": "execute_result"
    }
   ],
   "source": [
    "pd.Series([4]).repeat(4)"
   ]
  },
  {
   "cell_type": "code",
   "execution_count": 13,
   "id": "d1e0ae11-f872-4214-9f5b-39e595a72bc1",
   "metadata": {
    "tags": []
   },
   "outputs": [
    {
     "data": {
      "text/plain": [
       "0    1\n",
       "0    1\n",
       "0    1\n",
       "1    2\n",
       "1    2\n",
       "1    2\n",
       "2    3\n",
       "2    3\n",
       "2    3\n",
       "dtype: int64"
      ]
     },
     "execution_count": 13,
     "metadata": {},
     "output_type": "execute_result"
    }
   ],
   "source": [
    "pd.Series([1,2,3]).repeat(3)"
   ]
  },
  {
   "cell_type": "code",
   "execution_count": 15,
   "id": "33388ed1-8886-4f3e-8372-916ed301c71f",
   "metadata": {
    "tags": []
   },
   "outputs": [
    {
     "data": {
      "text/plain": [
       "0    1\n",
       "0    1\n",
       "0    1\n",
       "0    1\n",
       "0    1\n",
       "1    2\n",
       "1    2\n",
       "1    2\n",
       "1    2\n",
       "1    2\n",
       "1    2\n",
       "dtype: int64"
      ]
     },
     "execution_count": 15,
     "metadata": {},
     "output_type": "execute_result"
    }
   ],
   "source": [
    "pd.Series([1,2]).repeat([5,6])"
   ]
  },
  {
   "cell_type": "code",
   "execution_count": 16,
   "id": "5024bb45-0c44-4ff9-82ae-3fa1cd3f246b",
   "metadata": {
    "tags": []
   },
   "outputs": [
    {
     "data": {
      "text/html": [
       "<div>\n",
       "<style scoped>\n",
       "    .dataframe tbody tr th:only-of-type {\n",
       "        vertical-align: middle;\n",
       "    }\n",
       "\n",
       "    .dataframe tbody tr th {\n",
       "        vertical-align: top;\n",
       "    }\n",
       "\n",
       "    .dataframe thead th {\n",
       "        text-align: right;\n",
       "    }\n",
       "</style>\n",
       "<table border=\"1\" class=\"dataframe\">\n",
       "  <thead>\n",
       "    <tr style=\"text-align: right;\">\n",
       "      <th></th>\n",
       "      <th>index</th>\n",
       "      <th>0</th>\n",
       "    </tr>\n",
       "  </thead>\n",
       "  <tbody>\n",
       "    <tr>\n",
       "      <th>0</th>\n",
       "      <td>0</td>\n",
       "      <td>1</td>\n",
       "    </tr>\n",
       "    <tr>\n",
       "      <th>1</th>\n",
       "      <td>0</td>\n",
       "      <td>1</td>\n",
       "    </tr>\n",
       "    <tr>\n",
       "      <th>2</th>\n",
       "      <td>0</td>\n",
       "      <td>1</td>\n",
       "    </tr>\n",
       "  </tbody>\n",
       "</table>\n",
       "</div>"
      ],
      "text/plain": [
       "   index  0\n",
       "0      0  1\n",
       "1      0  1\n",
       "2      0  1"
      ]
     },
     "execution_count": 16,
     "metadata": {},
     "output_type": "execute_result"
    }
   ],
   "source": [
    "pd.Series(1).repeat(3).reset_index()"
   ]
  },
  {
   "cell_type": "code",
   "execution_count": 17,
   "id": "e02a9e66-ea25-4f34-b099-ccdbc8b8da48",
   "metadata": {
    "tags": []
   },
   "outputs": [
    {
     "data": {
      "text/plain": [
       "0    1\n",
       "1    1\n",
       "2    1\n",
       "dtype: int64"
      ]
     },
     "execution_count": 17,
     "metadata": {},
     "output_type": "execute_result"
    }
   ],
   "source": [
    "pd.Series(1).repeat(3).reset_index(drop = \"True\")"
   ]
  },
  {
   "cell_type": "markdown",
   "id": "19e72134-8e7e-4cb5-ac4f-df06d4f7e90a",
   "metadata": {},
   "source": [
    "#### Accessing the Elements"
   ]
  },
  {
   "cell_type": "code",
   "execution_count": 23,
   "id": "6a1c1ecd-e504-4b98-8512-eb5adf55b2bd",
   "metadata": {
    "tags": []
   },
   "outputs": [
    {
     "name": "stdout",
     "output_type": "stream",
     "text": [
      "1\n",
      "2\n",
      "3\n",
      "4\n",
      "5\n"
     ]
    }
   ],
   "source": [
    "s = pd.Series([1,2,3,4,5])\n",
    "\n",
    "for i in range(5):\n",
    "    print(s[i])"
   ]
  },
  {
   "cell_type": "markdown",
   "id": "4dace983-e8bb-4849-8eb6-d8fdf06f3d07",
   "metadata": {},
   "source": [
    "#### Slicing"
   ]
  },
  {
   "cell_type": "code",
   "execution_count": 27,
   "id": "b067a367-3fbd-441a-b501-e03b850b32c6",
   "metadata": {
    "tags": []
   },
   "outputs": [
    {
     "name": "stdout",
     "output_type": "stream",
     "text": [
      "0    1\n",
      "1    2\n",
      "2    3\n",
      "3    4\n",
      "4    5\n",
      "dtype: int64\n",
      "2    3\n",
      "3    4\n",
      "4    5\n",
      "dtype: int64\n",
      "4    5\n",
      "3    4\n",
      "2    3\n",
      "1    2\n",
      "0    1\n",
      "dtype: int64\n"
     ]
    }
   ],
   "source": [
    "print(s)\n",
    "print(s[2:5])\n",
    "print(s[::-1])\n"
   ]
  },
  {
   "cell_type": "markdown",
   "id": "d2129adc-0209-4b53-b45e-8df90ddbd083",
   "metadata": {},
   "source": [
    "### 2. Aggregate functions\n",
    "Min, Max, sum etc"
   ]
  },
  {
   "cell_type": "code",
   "execution_count": 34,
   "id": "580331e1-3e3d-4315-b05c-3cd048c77d9a",
   "metadata": {
    "tags": []
   },
   "outputs": [
    {
     "name": "stdout",
     "output_type": "stream",
     "text": [
      "min    -5\n",
      "max     7\n",
      "sum    14\n",
      "dtype: int64\n"
     ]
    },
    {
     "data": {
      "text/plain": [
       "0    1\n",
       "1    2\n",
       "2    3\n",
       "3    4\n",
       "4    5\n",
       "5    6\n",
       "6    7\n",
       "dtype: int64"
      ]
     },
     "execution_count": 34,
     "metadata": {},
     "output_type": "execute_result"
    }
   ],
   "source": [
    "sr = pd.Series([1,-2,3,4,-5,6,7])\n",
    "print(sr.agg([min,max,sum]))\n",
    "\n",
    "#Absolute Function\n",
    "sr.abs()"
   ]
  },
  {
   "cell_type": "markdown",
   "id": "d4d3311d-3287-45f5-9794-980fc2b2d50e",
   "metadata": {},
   "source": [
    "### 3. Combining Different Series\n"
   ]
  },
  {
   "cell_type": "code",
   "execution_count": 58,
   "id": "8f910243-61d2-44a4-846b-df6bf11403a4",
   "metadata": {
    "tags": []
   },
   "outputs": [
    {
     "data": {
      "text/plain": [
       "0     6\n",
       "1     8\n",
       "2    10\n",
       "3    12\n",
       "dtype: int64"
      ]
     },
     "execution_count": 58,
     "metadata": {},
     "output_type": "execute_result"
    }
   ],
   "source": [
    "sr1 = pd.Series([1,2,3,4])\n",
    "sr2 = pd.Series([5,6,7,8])\n",
    "\n",
    "sr1.combine(sr2,(lambda x1, x2: x1+x2))"
   ]
  },
  {
   "cell_type": "markdown",
   "id": "bc3020bd-ee77-435f-b09b-7e62d392fd41",
   "metadata": {},
   "source": [
    "### 4. Astype()\n",
    "is used to change the type of series. "
   ]
  },
  {
   "cell_type": "code",
   "execution_count": 59,
   "id": "96cbc368-e894-46e9-ba02-55bf83477fdc",
   "metadata": {
    "tags": []
   },
   "outputs": [
    {
     "name": "stdout",
     "output_type": "stream",
     "text": [
      "<class 'numpy.int64'>\n"
     ]
    }
   ],
   "source": [
    "print(type(sr1[0]))"
   ]
  },
  {
   "cell_type": "code",
   "execution_count": 62,
   "id": "8688361a-ab96-4a39-8c5e-6b2e1a619e9b",
   "metadata": {
    "tags": []
   },
   "outputs": [
    {
     "name": "stdout",
     "output_type": "stream",
     "text": [
      "0    1.0\n",
      "1    2.0\n",
      "2    3.0\n",
      "3    4.0\n",
      "dtype: float64\n",
      "0    1.0\n",
      "1    2.0\n",
      "2    3.0\n",
      "3    4.0\n",
      "dtype: object\n",
      "0    1\n",
      "1    2\n",
      "2    3\n",
      "3    4\n",
      "dtype: int64\n"
     ]
    }
   ],
   "source": [
    "sr1 = sr1.astype('float')\n",
    "print(sr1)\n",
    "print(sr1.astype('str'))\n",
    "print(sr1.astype('int64'))"
   ]
  },
  {
   "cell_type": "markdown",
   "id": "374d86e9-7b2d-48f5-a304-861a92d47def",
   "metadata": {},
   "source": [
    "### 6. Between()\n",
    "which values lie between two parameters"
   ]
  },
  {
   "cell_type": "code",
   "execution_count": 65,
   "id": "9c2e2af7-25d5-4fd8-9a8d-241e56027477",
   "metadata": {
    "tags": []
   },
   "outputs": [
    {
     "name": "stdout",
     "output_type": "stream",
     "text": [
      "1    False\n",
      "2    False\n",
      "3    False\n",
      "4    False\n",
      "5     True\n",
      "6     True\n",
      "7     True\n",
      "8     True\n",
      "9     True\n",
      "dtype: bool\n"
     ]
    }
   ],
   "source": [
    "sr1 = pd.Series([1,2,3,4,5,6,7,8,9],index=[1,2,3,4,5,6,7,8,9])\n",
    "print(sr1.between(5,9))"
   ]
  },
  {
   "cell_type": "markdown",
   "id": "cd15b147-a72f-4412-b2d5-65a12d5915e5",
   "metadata": {},
   "source": [
    "### 7. String functions"
   ]
  },
  {
   "cell_type": "code",
   "execution_count": 66,
   "id": "543396df-62d3-4185-b50e-eff3c46b53d7",
   "metadata": {
    "tags": []
   },
   "outputs": [],
   "source": [
    "sr = pd.Series(['aryan','wala','how','are', 'you'])"
   ]
  },
  {
   "cell_type": "markdown",
   "id": "5ce26dcc-d9f4-41cf-b515-044556c6bc3f",
   "metadata": {},
   "source": [
    "#### a. upper and lower"
   ]
  },
  {
   "cell_type": "code",
   "execution_count": 69,
   "id": "6fbb637d-73e4-4da8-9186-978be05e114c",
   "metadata": {
    "tags": []
   },
   "outputs": [
    {
     "name": "stdout",
     "output_type": "stream",
     "text": [
      "0    ARYAN\n",
      "1     WALA\n",
      "2      HOW\n",
      "3      ARE\n",
      "4      YOU\n",
      "dtype: object\n",
      "0    aryan\n",
      "1     wala\n",
      "2      how\n",
      "3      are\n",
      "4      you\n",
      "dtype: object\n"
     ]
    }
   ],
   "source": [
    "print(sr.str.upper())\n",
    "print(sr.str.lower())"
   ]
  },
  {
   "cell_type": "markdown",
   "id": "6dbfcfbc-6820-4d62-a28a-106989104e44",
   "metadata": {},
   "source": [
    "#### b. length"
   ]
  },
  {
   "cell_type": "code",
   "execution_count": 71,
   "id": "25caeb14-9dce-4371-9928-264b6329b48e",
   "metadata": {
    "tags": []
   },
   "outputs": [
    {
     "name": "stdout",
     "output_type": "stream",
     "text": [
      "aryan 5\n",
      "wala 4\n",
      "how 3\n",
      "are 3\n",
      "you 3\n"
     ]
    }
   ],
   "source": [
    "for i in sr:\n",
    "    print(i,len(i))"
   ]
  },
  {
   "cell_type": "markdown",
   "id": "51f9ac0a-ae30-4508-b691-e4233e7582f9",
   "metadata": {},
   "source": [
    "#### c. Strip"
   ]
  },
  {
   "cell_type": "code",
   "execution_count": 82,
   "id": "78749a04-312d-4483-b8ac-1f73e956bf34",
   "metadata": {
    "tags": []
   },
   "outputs": [
    {
     "name": "stdout",
     "output_type": "stream",
     "text": [
      "   aryan  9\n",
      "  wala   8\n",
      "how 3\n",
      " are 4\n",
      "you  4\n"
     ]
    }
   ],
   "source": [
    "sr = pd.Series(['   aryan ','  wala  ','how',' are', 'you '])\n",
    "for i in sr:\n",
    "    print(i,len(i))"
   ]
  },
  {
   "cell_type": "code",
   "execution_count": 85,
   "id": "f0753eb7-5033-4306-8d6b-2a4910f77969",
   "metadata": {
    "tags": []
   },
   "outputs": [
    {
     "name": "stdout",
     "output_type": "stream",
     "text": [
      "aryan 5\n",
      "wala 4\n",
      "how 3\n",
      "are 3\n",
      "you 3\n"
     ]
    }
   ],
   "source": [
    "sr = sr.str.strip()\n",
    "for i in sr:\n",
    "    print(i,len(i))"
   ]
  },
  {
   "cell_type": "markdown",
   "id": "807f8a14-7c26-443f-8d40-a0cfe5da98e3",
   "metadata": {},
   "source": [
    "#### d. split"
   ]
  },
  {
   "cell_type": "code",
   "execution_count": 90,
   "id": "2f8e3022-1d28-42d5-b02c-2476f3e24015",
   "metadata": {
    "tags": []
   },
   "outputs": [
    {
     "name": "stdout",
     "output_type": "stream",
     "text": [
      "0     [10, 1, 2020]\n",
      "1     [10, 2, 2012]\n",
      "2     [10, 4, 2021]\n",
      "3     [13, 1, 2000]\n",
      "4    [12, 11, 1620]\n",
      "dtype: object\n",
      "Day : 10 Month : 1 Year : 2020\n",
      "Day : 10 Month : 2 Year : 2012\n",
      "Day : 10 Month : 4 Year : 2021\n",
      "Day : 13 Month : 1 Year : 2000\n",
      "Day : 12 Month : 11 Year : 1620\n"
     ]
    }
   ],
   "source": [
    "dates = pd.Series(['10/1/2020','10/2/2012','10/4/2021','13/1/2000','12/11/1620'])\n",
    "print(dates.str.split('/'))\n",
    "for i in dates.str.split('/'):\n",
    "    print('Day :',i[0],'Month :',i[1],'Year :',i[2])"
   ]
  },
  {
   "cell_type": "markdown",
   "id": "f6c8439b-e69a-4be9-b8fc-6b9398c3088b",
   "metadata": {},
   "source": [
    "#### e. contains"
   ]
  },
  {
   "cell_type": "code",
   "execution_count": 92,
   "id": "7b945530-76a0-4da4-9cf8-25307317cf1e",
   "metadata": {
    "tags": []
   },
   "outputs": [
    {
     "name": "stdout",
     "output_type": "stream",
     "text": [
      "0    aryan\n",
      "1     wala\n",
      "2      how\n",
      "3      are\n",
      "4      you\n",
      "dtype: object\n",
      "0     True\n",
      "1     True\n",
      "2    False\n",
      "3     True\n",
      "4    False\n",
      "dtype: bool\n"
     ]
    }
   ],
   "source": [
    "print(sr)\n",
    "print(sr.str.contains('a'))"
   ]
  },
  {
   "cell_type": "markdown",
   "id": "808301b9-1ec1-4d61-987c-b053d9b392b2",
   "metadata": {},
   "source": [
    "#### f. Replace"
   ]
  },
  {
   "cell_type": "code",
   "execution_count": 93,
   "id": "bc6523b2-6599-41bc-a390-270028b0169d",
   "metadata": {
    "tags": []
   },
   "outputs": [
    {
     "name": "stdout",
     "output_type": "stream",
     "text": [
      "0    brybn\n",
      "1     wblb\n",
      "2      how\n",
      "3      bre\n",
      "4      you\n",
      "dtype: object\n"
     ]
    }
   ],
   "source": [
    "print(sr.str.replace('a','b'))"
   ]
  },
  {
   "cell_type": "markdown",
   "id": "ddd2fa7c-f7f3-4f62-8e07-9257e09c98c6",
   "metadata": {},
   "source": [
    "#### g. count"
   ]
  },
  {
   "cell_type": "code",
   "execution_count": 95,
   "id": "f640dc94-6750-423b-b005-4b2a8ee5ff6c",
   "metadata": {
    "tags": []
   },
   "outputs": [
    {
     "name": "stdout",
     "output_type": "stream",
     "text": [
      "0    aryan\n",
      "1     wala\n",
      "2      how\n",
      "3      are\n",
      "4      you\n",
      "dtype: object\n",
      "0    2\n",
      "1    2\n",
      "2    0\n",
      "3    1\n",
      "4    0\n",
      "dtype: int64\n"
     ]
    }
   ],
   "source": [
    "print(sr)\n",
    "print(sr.str.count('a'))"
   ]
  },
  {
   "cell_type": "markdown",
   "id": "f13a0d10-90fe-40e4-b26f-1f8c2aca9416",
   "metadata": {},
   "source": [
    "#### f. startswith and endswith"
   ]
  },
  {
   "cell_type": "code",
   "execution_count": 99,
   "id": "94f04ddb-efe9-4f55-a082-d69b9580546a",
   "metadata": {
    "tags": []
   },
   "outputs": [
    {
     "name": "stdout",
     "output_type": "stream",
     "text": [
      "0     True\n",
      "1    False\n",
      "2    False\n",
      "3     True\n",
      "4    False\n",
      "dtype: bool\n",
      "0    False\n",
      "1    False\n",
      "2     True\n",
      "3    False\n",
      "4    False\n",
      "dtype: bool\n"
     ]
    }
   ],
   "source": [
    "print(sr.str.startswith('a'))\n",
    "print(sr.str.endswith('w'))"
   ]
  },
  {
   "cell_type": "markdown",
   "id": "50773830-92c6-4e83-9e5b-d00f48ce0e66",
   "metadata": {},
   "source": [
    "#### g. find"
   ]
  },
  {
   "cell_type": "code",
   "execution_count": 101,
   "id": "81aaa432-805f-4e93-ad93-25f375b14e6e",
   "metadata": {
    "tags": []
   },
   "outputs": [
    {
     "name": "stdout",
     "output_type": "stream",
     "text": [
      "0    aryan\n",
      "1     wala\n",
      "2      how\n",
      "3      are\n",
      "4      you\n",
      "dtype: object\n",
      "0    0\n",
      "1   -1\n",
      "2   -1\n",
      "3    0\n",
      "4   -1\n",
      "dtype: int64\n"
     ]
    }
   ],
   "source": [
    "print(sr)\n",
    "print(sr.str.find('ar'))"
   ]
  },
  {
   "cell_type": "markdown",
   "id": "6fe38bc3-5b4e-46c6-8557-1371002df6b6",
   "metadata": {},
   "source": [
    "### 7. Converting series to list"
   ]
  },
  {
   "cell_type": "code",
   "execution_count": 106,
   "id": "16beeab5-c455-4270-b523-39cf77ceb9bd",
   "metadata": {
    "tags": []
   },
   "outputs": [
    {
     "data": {
      "text/plain": [
       "['aryan', 'wala', 'how', 'are', 'you']"
      ]
     },
     "execution_count": 106,
     "metadata": {},
     "output_type": "execute_result"
    }
   ],
   "source": [
    "sr.to_list()"
   ]
  },
  {
   "cell_type": "code",
   "execution_count": null,
   "id": "25fc17e8-3d45-4af5-8bbb-ab6a9cb446ec",
   "metadata": {},
   "outputs": [],
   "source": []
  }
 ],
 "metadata": {
  "kernelspec": {
   "display_name": "Python 3 (ipykernel)",
   "language": "python",
   "name": "python3"
  },
  "language_info": {
   "codemirror_mode": {
    "name": "ipython",
    "version": 3
   },
   "file_extension": ".py",
   "mimetype": "text/x-python",
   "name": "python",
   "nbconvert_exporter": "python",
   "pygments_lexer": "ipython3",
   "version": "3.11.5"
  }
 },
 "nbformat": 4,
 "nbformat_minor": 5
}
