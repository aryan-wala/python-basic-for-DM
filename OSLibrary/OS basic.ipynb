{
 "cells": [
  {
   "cell_type": "code",
   "execution_count": 2,
   "id": "787fd305-b342-41bb-b24a-28418ab9a731",
   "metadata": {
    "tags": []
   },
   "outputs": [],
   "source": [
    "import os"
   ]
  },
  {
   "cell_type": "code",
   "execution_count": 3,
   "id": "c1b7b7d3-b0b3-4346-ba42-c95b242d4757",
   "metadata": {
    "tags": []
   },
   "outputs": [
    {
     "data": {
      "text/plain": [
       "'C:\\\\Users\\\\aryan\\\\Desktop\\\\Python Jupyter'"
      ]
     },
     "execution_count": 3,
     "metadata": {},
     "output_type": "execute_result"
    }
   ],
   "source": [
    "os.getcwd() # get current working directory\n",
    "pwd # same as above"
   ]
  },
  {
   "cell_type": "code",
   "execution_count": 6,
   "id": "81b2d872-f160-4dcd-9876-25772f748dca",
   "metadata": {
    "tags": []
   },
   "outputs": [
    {
     "name": "stdout",
     "output_type": "stream",
     "text": [
      " Volume in drive C is Windows\n",
      " Volume Serial Number is F01D-1899\n",
      "\n",
      " Directory of C:\\Users\\aryan\\Desktop\\Python Jupyter\n",
      "\n",
      "18-02-2024  18:20    <DIR>          .\n",
      "04-02-2024  20:30    <DIR>          ..\n",
      "18-02-2024  18:18    <DIR>          .ipynb_checkpoints\n",
      "04-02-2024  20:41             1,365 DemoJupyter.ipynb\n",
      "13-02-2024  14:09    <DIR>          File\n",
      "18-02-2024  17:24    <DIR>          Numpy\n",
      "18-02-2024  18:17    <DIR>          OS library\n",
      "18-02-2024  18:20             1,688 Untitled.ipynb\n",
      "               2 File(s)          3,053 bytes\n",
      "               6 Dir(s)  107,266,232,320 bytes free\n"
     ]
    }
   ],
   "source": [
    "ls"
   ]
  },
  {
   "cell_type": "code",
   "execution_count": 7,
   "id": "47e7d157-9a2d-4282-884a-ca3362c0602c",
   "metadata": {
    "tags": []
   },
   "outputs": [],
   "source": [
    "os.chdir(\"Numpy\") # change current working directory"
   ]
  },
  {
   "cell_type": "code",
   "execution_count": 8,
   "id": "f733365d-1dd2-4ef3-9cf9-dd06c8980fcf",
   "metadata": {
    "tags": []
   },
   "outputs": [
    {
     "data": {
      "text/plain": [
       "'C:\\\\Users\\\\aryan\\\\Desktop\\\\Python Jupyter\\\\Numpy'"
      ]
     },
     "execution_count": 8,
     "metadata": {},
     "output_type": "execute_result"
    }
   ],
   "source": [
    "os.getcwd()"
   ]
  },
  {
   "cell_type": "code",
   "execution_count": 9,
   "id": "e9dfaa08-2905-4a5d-acf8-12c0d9dec6d8",
   "metadata": {
    "tags": []
   },
   "outputs": [],
   "source": [
    "os.chdir(\"../\") # move back a directory"
   ]
  },
  {
   "cell_type": "code",
   "execution_count": 10,
   "id": "bd243361-bff2-470c-8041-102411ab594e",
   "metadata": {
    "tags": []
   },
   "outputs": [
    {
     "data": {
      "text/plain": [
       "'C:\\\\Users\\\\aryan\\\\Desktop\\\\Python Jupyter'"
      ]
     },
     "execution_count": 10,
     "metadata": {},
     "output_type": "execute_result"
    }
   ],
   "source": [
    "os.getcwd()"
   ]
  },
  {
   "cell_type": "code",
   "execution_count": 12,
   "id": "0e50b47d-fca4-4c67-8fc0-89cfcc1635e1",
   "metadata": {
    "tags": []
   },
   "outputs": [],
   "source": [
    "# os.mkdir(\"ABC\")  makes directory\n",
    "# os.makedirs(\"ABC/abc1/abc2\") make multiple directories at same time"
   ]
  },
  {
   "cell_type": "code",
   "execution_count": 16,
   "id": "25559497-61ea-404c-bc17-86d3680e7249",
   "metadata": {
    "tags": []
   },
   "outputs": [],
   "source": [
    "# os.rmdir(\"ABC/abc1/abc2\")removes single directory"
   ]
  },
  {
   "cell_type": "code",
   "execution_count": 4,
   "id": "aaa49318-4377-4e09-81c0-f0cba2ee82e4",
   "metadata": {},
   "outputs": [
    {
     "data": {
      "text/plain": [
       "['.ipynb_checkpoints', 'DemoJupyter.ipynb', 'File', 'Numpy', 'OS library']"
      ]
     },
     "execution_count": 4,
     "metadata": {},
     "output_type": "execute_result"
    }
   ],
   "source": [
    "os.listdir() # list of all files hidden also"
   ]
  },
  {
   "cell_type": "code",
   "execution_count": 5,
   "id": "7ec96a7f-909f-4aed-be96-f64845a02fe2",
   "metadata": {
    "tags": []
   },
   "outputs": [
    {
     "data": {
      "text/plain": [
       "['.ipynb_checkpoints',\n",
       " 'Arithmetic op on multiple arrays.ipynb',\n",
       " 'Arithmetic Operations on Array.ipynb',\n",
       " 'Automate using Python .ipynb',\n",
       " 'Introdunction to Numpy.ipynb',\n",
       " 'Numpy Functions.ipynb',\n",
       " 'Sorting in Array.ipynb',\n",
       " 'Stacking and Spliting arrays.ipynb']"
      ]
     },
     "execution_count": 5,
     "metadata": {},
     "output_type": "execute_result"
    }
   ],
   "source": [
    "os.listdir('Numpy')"
   ]
  },
  {
   "cell_type": "code",
   "execution_count": 10,
   "id": "3702d95f-1ba3-478a-bb38-485c1aa34f55",
   "metadata": {
    "tags": []
   },
   "outputs": [
    {
     "name": "stdout",
     "output_type": "stream",
     "text": [
      "Arithmetic op on multiple arrays.ipynb\n",
      "Arithmetic Operations on Array.ipynb\n"
     ]
    }
   ],
   "source": [
    "for i in os.listdir('Numpy'):\n",
    "    if \"Arithmetic\" in i:\n",
    "        print(i)\n"
   ]
  },
  {
   "cell_type": "markdown",
   "id": "06c25f69-f08a-4758-b548-29cf8260aca3",
   "metadata": {},
   "source": [
    "### Creating a text File"
   ]
  },
  {
   "cell_type": "code",
   "execution_count": 17,
   "id": "6dac7215-fc1e-43b0-9dff-d82654e6651c",
   "metadata": {
    "tags": []
   },
   "outputs": [
    {
     "data": {
      "text/plain": [
       "'C:\\\\Users\\\\aryan\\\\Desktop\\\\Python Jupyter\\\\OS Library'"
      ]
     },
     "execution_count": 17,
     "metadata": {},
     "output_type": "execute_result"
    }
   ],
   "source": [
    "os.getcwd()"
   ]
  },
  {
   "cell_type": "code",
   "execution_count": 19,
   "id": "b15ff0d6-fd5d-4457-873f-3cbc64736413",
   "metadata": {
    "tags": []
   },
   "outputs": [],
   "source": [
    "!touch file.txt # a text file is created"
   ]
  },
  {
   "cell_type": "code",
   "execution_count": 21,
   "id": "9c93c564-8f11-422d-a6d7-18275c2ebf50",
   "metadata": {
    "tags": []
   },
   "outputs": [],
   "source": [
    "os.rename('file.txt','newFile.txt')"
   ]
  },
  {
   "cell_type": "code",
   "execution_count": 22,
   "id": "620a93eb-ad1f-4fa1-924b-c53442a29b80",
   "metadata": {
    "tags": []
   },
   "outputs": [],
   "source": [
    "os.remove('newFile.txt')"
   ]
  },
  {
   "cell_type": "markdown",
   "id": "ea8ef0a7-e933-46da-b708-03152c0ac8ee",
   "metadata": {},
   "source": [
    "### Folder functions"
   ]
  },
  {
   "cell_type": "code",
   "execution_count": 24,
   "id": "7d266f08-8b80-4004-9dc9-60bd8f044c8f",
   "metadata": {
    "tags": []
   },
   "outputs": [
    {
     "data": {
      "text/plain": [
       "'C:\\\\Users\\\\aryan\\\\Desktop\\\\Python Jupyter'"
      ]
     },
     "execution_count": 24,
     "metadata": {},
     "output_type": "execute_result"
    }
   ],
   "source": [
    "os.getcwd()"
   ]
  },
  {
   "cell_type": "code",
   "execution_count": 26,
   "id": "b6d89aac-3a9c-484e-bb3c-b23df4f47e12",
   "metadata": {
    "tags": []
   },
   "outputs": [
    {
     "data": {
      "text/plain": [
       "True"
      ]
     },
     "execution_count": 26,
     "metadata": {},
     "output_type": "execute_result"
    }
   ],
   "source": [
    "os.path.exists(\"OS library\")"
   ]
  },
  {
   "cell_type": "code",
   "execution_count": 27,
   "id": "cc2eb685-5961-469b-9ec6-55d83bf71814",
   "metadata": {
    "tags": []
   },
   "outputs": [
    {
     "data": {
      "text/plain": [
       "4096"
      ]
     },
     "execution_count": 27,
     "metadata": {},
     "output_type": "execute_result"
    }
   ],
   "source": [
    "os.path.getsize(\"Numpy\") # gets size of folder or file "
   ]
  },
  {
   "cell_type": "code",
   "execution_count": 29,
   "id": "24f1a3f6-322a-478b-a2d8-dc1e382ac20c",
   "metadata": {
    "tags": []
   },
   "outputs": [
    {
     "name": "stdout",
     "output_type": "stream",
     "text": [
      "7675\n"
     ]
    },
    {
     "data": {
      "text/plain": [
       "4096"
      ]
     },
     "execution_count": 29,
     "metadata": {},
     "output_type": "execute_result"
    }
   ],
   "source": [
    "print(os.path.getsize(\"OS library/OS basic.ipynb\"))\n",
    "os.path.getsize(\"OS library\")\n"
   ]
  },
  {
   "cell_type": "code",
   "execution_count": null,
   "id": "ad23f608-82ed-49bb-8dfb-922f1baab666",
   "metadata": {},
   "outputs": [],
   "source": []
  }
 ],
 "metadata": {
  "kernelspec": {
   "display_name": "Python 3 (ipykernel)",
   "language": "python",
   "name": "python3"
  },
  "language_info": {
   "codemirror_mode": {
    "name": "ipython",
    "version": 3
   },
   "file_extension": ".py",
   "mimetype": "text/x-python",
   "name": "python",
   "nbconvert_exporter": "python",
   "pygments_lexer": "ipython3",
   "version": "3.11.5"
  }
 },
 "nbformat": 4,
 "nbformat_minor": 5
}
