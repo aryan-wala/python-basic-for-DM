{
 "cells": [
  {
   "cell_type": "code",
   "execution_count": 1,
   "id": "a43b5cde-b445-4fb2-8294-938b7b4da031",
   "metadata": {
    "tags": []
   },
   "outputs": [],
   "source": [
    "import os"
   ]
  },
  {
   "cell_type": "markdown",
   "id": "5f0fb9e5-f714-466e-a6e9-42333b981884",
   "metadata": {},
   "source": [
    "## Creating multiple files"
   ]
  },
  {
   "cell_type": "code",
   "execution_count": 11,
   "id": "74ef7c79-297f-43c1-b9e8-4ee47875d86a",
   "metadata": {
    "tags": []
   },
   "outputs": [
    {
     "name": "stdin",
     "output_type": "stream",
     "text": [
      "Enter how many files you want to create :  100\n"
     ]
    }
   ],
   "source": [
    "n = int(input(\"Enter how many files you want to create : \"))\n",
    "for i in range(n):\n",
    "    s = \"Files/f\" + str(i+1) + \".txt\"\n",
    "    write = \"This is file f\" + str(i+1) + \".\"\n",
    "    fd = open(s,'w')\n",
    "    fd.write(write)\n",
    "    fd.close()"
   ]
  },
  {
   "cell_type": "markdown",
   "id": "371616a9-5fd7-47a6-a3cf-00efc105458c",
   "metadata": {},
   "source": [
    "### Accessing the files"
   ]
  },
  {
   "cell_type": "code",
   "execution_count": 8,
   "id": "533137d1-a3dc-48da-8932-fec2bf19150c",
   "metadata": {
    "tags": []
   },
   "outputs": [
    {
     "data": {
      "text/plain": [
       "'C:\\\\Users\\\\aryan\\\\Desktop\\\\Python Jupyter\\\\OS library'"
      ]
     },
     "execution_count": 8,
     "metadata": {},
     "output_type": "execute_result"
    }
   ],
   "source": [
    "os.getcwd()"
   ]
  },
  {
   "cell_type": "code",
   "execution_count": 13,
   "id": "b9db5ae4-1c10-4e04-8081-6b330dd4c6ba",
   "metadata": {
    "tags": []
   },
   "outputs": [],
   "source": [
    "files = os.listdir('Files')"
   ]
  },
  {
   "cell_type": "code",
   "execution_count": 14,
   "id": "3f1342b1-41ce-47b7-8105-250b4c2b38a1",
   "metadata": {
    "tags": []
   },
   "outputs": [
    {
     "data": {
      "text/plain": [
       "101"
      ]
     },
     "execution_count": 14,
     "metadata": {},
     "output_type": "execute_result"
    }
   ],
   "source": [
    "len(files)"
   ]
  },
  {
   "cell_type": "code",
   "execution_count": 15,
   "id": "957136c3-9ac0-4433-95e3-fa89fb74e905",
   "metadata": {
    "tags": []
   },
   "outputs": [
    {
     "data": {
      "text/plain": [
       "list"
      ]
     },
     "execution_count": 15,
     "metadata": {},
     "output_type": "execute_result"
    }
   ],
   "source": [
    "type(files)"
   ]
  },
  {
   "cell_type": "markdown",
   "id": "e6b67caa-5f1a-473c-adcf-8d11aaa1b63b",
   "metadata": {},
   "source": [
    "#### Reading data from all the files in Files folder"
   ]
  },
  {
   "cell_type": "code",
   "execution_count": 22,
   "id": "4c5f9ac1-c4e7-4423-a80b-6748b3c78fdc",
   "metadata": {
    "tags": []
   },
   "outputs": [
    {
     "name": "stdout",
     "output_type": "stream",
     "text": [
      "This is file f1.\n",
      "This is file f10.\n",
      "This is file f100.\n",
      "This is file f11.\n",
      "This is file f12.\n",
      "This is file f13.\n",
      "This is file f14.\n",
      "This is file f15.\n",
      "This is file f16.\n",
      "This is file f17.\n",
      "This is file f18.\n",
      "This is file f19.\n",
      "This is file f2.\n",
      "This is file f20.\n",
      "This is file f21.\n",
      "This is file f22.\n",
      "This is file f23.\n",
      "This is file f24.\n",
      "This is file f25.\n",
      "This is file f26.\n",
      "This is file f27.\n",
      "This is file f28.\n",
      "This is file f29.\n",
      "This is file f3.\n",
      "This is file f30.\n",
      "This is file f31.\n",
      "This is file f32.\n",
      "This is file f33.\n",
      "This is file f34.\n",
      "This is file f35.\n",
      "This is file f36.\n",
      "This is file f37.\n",
      "This is file f38.\n",
      "This is file f39.\n",
      "This is file f4.\n",
      "This is file f40.\n",
      "This is file f41.\n",
      "This is file f42.\n",
      "This is file f43.\n",
      "This is file f44.\n",
      "This is file f45.\n",
      "This is file f46.\n",
      "This is file f47.\n",
      "This is file f48.\n",
      "This is file f49.\n",
      "This is file f5.\n",
      "This is file f50.\n",
      "This is file f51.\n",
      "This is file f52.\n",
      "This is file f53.\n",
      "This is file f54.\n",
      "This is file f55.\n",
      "This is file f56.\n",
      "This is file f57.\n",
      "This is file f58.\n",
      "This is file f59.\n",
      "This is file f6.\n",
      "This is file f60.\n",
      "This is file f61.\n",
      "This is file f62.\n",
      "This is file f63.\n",
      "This is file f64.\n",
      "This is file f65.\n",
      "This is file f66.\n",
      "This is file f67.\n",
      "This is file f68.\n",
      "This is file f69.\n",
      "This is file f7.\n",
      "This is file f70.\n",
      "This is file f71.\n",
      "This is file f72.\n",
      "This is file f73.\n",
      "This is file f74.\n",
      "This is file f75.\n",
      "This is file f76.\n",
      "This is file f77.\n",
      "This is file f78.\n",
      "This is file f79.\n",
      "This is file f8.\n",
      "This is file f80.\n",
      "This is file f81.\n",
      "This is file f82.\n",
      "This is file f83.\n",
      "This is file f84.\n",
      "This is file f85.\n",
      "This is file f86.\n",
      "This is file f87.\n",
      "This is file f88.\n",
      "This is file f89.\n",
      "This is file f9.\n",
      "This is file f90.\n",
      "This is file f91.\n",
      "This is file f92.\n",
      "This is file f93.\n",
      "This is file f94.\n",
      "This is file f95.\n",
      "This is file f96.\n",
      "This is file f97.\n",
      "This is file f98.\n",
      "This is file f99.\n"
     ]
    }
   ],
   "source": [
    "for i in files:\n",
    "    if i != '.ipynb_checkpoints':\n",
    "        name = \"Files/\" + i\n",
    "        fd = open(name,'r')\n",
    "        print(fd.read())\n",
    "        fd.close()"
   ]
  },
  {
   "cell_type": "markdown",
   "id": "fe894144-fb02-41dc-8ce0-988c036c89f9",
   "metadata": {},
   "source": [
    "### Combining data from all the files into 1 file"
   ]
  },
  {
   "cell_type": "code",
   "execution_count": 24,
   "id": "e10a8e96-59dd-4577-bf04-2ce55ee81469",
   "metadata": {
    "tags": []
   },
   "outputs": [],
   "source": [
    "file_content = ''\n",
    "for i in files:\n",
    "    if i != '.ipynb_checkpoints':\n",
    "        name = \"Files/\" + i\n",
    "        fd = open(name,'r')\n",
    "        file_content += fd.read() + \"\\n\"\n",
    "        fd.close()\n",
    "        \n",
    "fd = open(\"Files/Combine_File.txt\",\"a\")\n",
    "fd.write(file_content + \"\\n\")\n",
    "fd.close()"
   ]
  },
  {
   "cell_type": "code",
   "execution_count": 25,
   "id": "81374812-974e-4028-8f3e-eb714e3dbc49",
   "metadata": {
    "tags": []
   },
   "outputs": [
    {
     "ename": "AttributeError",
     "evalue": "module 'os' has no attribute 'uname'",
     "output_type": "error",
     "traceback": [
      "\u001b[1;31m---------------------------------------------------------------------------\u001b[0m",
      "\u001b[1;31mAttributeError\u001b[0m                            Traceback (most recent call last)",
      "Cell \u001b[1;32mIn[25], line 1\u001b[0m\n\u001b[1;32m----> 1\u001b[0m os\u001b[38;5;241m.\u001b[39muname()\n",
      "\u001b[1;31mAttributeError\u001b[0m: module 'os' has no attribute 'uname'"
     ]
    }
   ],
   "source": [
    "os.uname()"
   ]
  },
  {
   "cell_type": "code",
   "execution_count": null,
   "id": "ce0b5f73-aec4-4624-a306-4fbf8d6414c0",
   "metadata": {},
   "outputs": [],
   "source": []
  }
 ],
 "metadata": {
  "kernelspec": {
   "display_name": "Python 3 (ipykernel)",
   "language": "python",
   "name": "python3"
  },
  "language_info": {
   "codemirror_mode": {
    "name": "ipython",
    "version": 3
   },
   "file_extension": ".py",
   "mimetype": "text/x-python",
   "name": "python",
   "nbconvert_exporter": "python",
   "pygments_lexer": "ipython3",
   "version": "3.11.5"
  }
 },
 "nbformat": 4,
 "nbformat_minor": 5
}
