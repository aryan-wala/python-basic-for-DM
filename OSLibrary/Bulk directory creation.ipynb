{
 "cells": [
  {
   "cell_type": "code",
   "execution_count": 3,
   "id": "00a2c506-0f14-41e2-a819-5a6edc1d22cd",
   "metadata": {
    "tags": []
   },
   "outputs": [],
   "source": [
    "import os"
   ]
  },
  {
   "cell_type": "code",
   "execution_count": 4,
   "id": "a1ffd24e-507c-4136-9306-54124cd0c2e0",
   "metadata": {
    "tags": []
   },
   "outputs": [
    {
     "data": {
      "text/plain": [
       "'C:\\\\Users\\\\aryan\\\\Desktop\\\\Python Jupyter\\\\OS library'"
      ]
     },
     "execution_count": 4,
     "metadata": {},
     "output_type": "execute_result"
    }
   ],
   "source": [
    "os.getcwd()"
   ]
  },
  {
   "cell_type": "code",
   "execution_count": 5,
   "id": "d51ab26e-3066-4661-ab03-c2f7eefcc2f0",
   "metadata": {
    "tags": []
   },
   "outputs": [
    {
     "ename": "FileExistsError",
     "evalue": "[WinError 183] Cannot create a file when that file already exists: 'Test'",
     "output_type": "error",
     "traceback": [
      "\u001b[1;31m---------------------------------------------------------------------------\u001b[0m",
      "\u001b[1;31mFileExistsError\u001b[0m                           Traceback (most recent call last)",
      "Cell \u001b[1;32mIn[5], line 1\u001b[0m\n\u001b[1;32m----> 1\u001b[0m os\u001b[38;5;241m.\u001b[39mmkdir(\u001b[38;5;124m\"\u001b[39m\u001b[38;5;124mTest\u001b[39m\u001b[38;5;124m\"\u001b[39m)\n",
      "\u001b[1;31mFileExistsError\u001b[0m: [WinError 183] Cannot create a file when that file already exists: 'Test'"
     ]
    }
   ],
   "source": [
    "os.mkdir(\"Test\")"
   ]
  },
  {
   "cell_type": "code",
   "execution_count": 8,
   "id": "b9d33578-206f-4b16-babf-f823ca3fc385",
   "metadata": {},
   "outputs": [],
   "source": [
    "for i in range(1,11):\n",
    "    s = \"Test/Test\" + str(i)\n",
    "    os.mkdir(s)"
   ]
  },
  {
   "cell_type": "markdown",
   "id": "f5da072a-9ff4-4904-a5b1-13815cb78317",
   "metadata": {},
   "source": [
    "## Building Bulk Hierarchical directories\n",
    "Demo \n",
    "    ->Demo 1\n",
    "        ->Demo 1-1\n",
    "        ->Demo 1-2\n",
    "        ->Demo 1-3\n",
    "    ->Demo 2\n",
    "        ->Demo 2-1\n",
    "        ->Demo 2-2\n",
    "        ->Demo 2-3"
   ]
  },
  {
   "cell_type": "code",
   "execution_count": 10,
   "id": "bbf3a622-4faa-4d19-83f9-278746153dcf",
   "metadata": {
    "tags": []
   },
   "outputs": [],
   "source": [
    "os.mkdir(\"Demo\")"
   ]
  },
  {
   "cell_type": "code",
   "execution_count": 14,
   "id": "aa136cba-776e-462e-90f3-9b848ef38aba",
   "metadata": {
    "tags": []
   },
   "outputs": [],
   "source": [
    "for i in range(1,3):\n",
    "    master = \"Demo/Demo \" + str(i)\n",
    "    os.mkdir(master)\n",
    "    for j in range(1,11):\n",
    "        name = master + \"/\" + \"Demo \" + str(i) + \"-\" + str(j)\n",
    "        os.mkdir(name)"
   ]
  },
  {
   "cell_type": "code",
   "execution_count": null,
   "id": "b1b555bb-c6a1-4e19-b388-357f35fed231",
   "metadata": {},
   "outputs": [],
   "source": []
  }
 ],
 "metadata": {
  "kernelspec": {
   "display_name": "Python 3 (ipykernel)",
   "language": "python",
   "name": "python3"
  },
  "language_info": {
   "codemirror_mode": {
    "name": "ipython",
    "version": 3
   },
   "file_extension": ".py",
   "mimetype": "text/x-python",
   "name": "python",
   "nbconvert_exporter": "python",
   "pygments_lexer": "ipython3",
   "version": "3.11.5"
  }
 },
 "nbformat": 4,
 "nbformat_minor": 5
}
