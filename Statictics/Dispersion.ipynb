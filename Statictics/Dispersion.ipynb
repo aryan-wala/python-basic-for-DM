{
 "cells": [
  {
   "cell_type": "markdown",
   "id": "cd415f7b-7b69-4283-99c7-9a61f8aebc8d",
   "metadata": {},
   "source": [
    "# Absolute Dispersion\n",
    "comparing data with mean"
   ]
  },
  {
   "cell_type": "markdown",
   "id": "61a364a5-11d3-4442-8d5c-a85e0a302c47",
   "metadata": {
    "tags": []
   },
   "source": [
    "import statistics as stat"
   ]
  },
  {
   "cell_type": "code",
   "execution_count": 2,
   "id": "47b6e186-6752-4b43-b2f9-55db60b63002",
   "metadata": {
    "tags": []
   },
   "outputs": [],
   "source": [
    "data1 = [45,42,41,40]\n",
    "data2 = [54,48,42,33,33]"
   ]
  },
  {
   "cell_type": "code",
   "execution_count": 3,
   "id": "a0b59744-f4a5-4145-869e-0760c11755b6",
   "metadata": {
    "tags": []
   },
   "outputs": [
    {
     "data": {
      "text/plain": [
       "42"
      ]
     },
     "execution_count": 3,
     "metadata": {},
     "output_type": "execute_result"
    }
   ],
   "source": [
    "stat.mean(data1)"
   ]
  },
  {
   "cell_type": "code",
   "execution_count": 4,
   "id": "d6d7b442-4f49-4c41-9dd1-def214a2aed8",
   "metadata": {
    "tags": []
   },
   "outputs": [
    {
     "data": {
      "text/plain": [
       "42"
      ]
     },
     "execution_count": 4,
     "metadata": {},
     "output_type": "execute_result"
    }
   ],
   "source": [
    "stat.mean(data2)"
   ]
  },
  {
   "cell_type": "markdown",
   "id": "24a38554-a6d3-489a-b5d0-7aab0e812b8a",
   "metadata": {},
   "source": [
    "## Range\n",
    "difference between the min and max value in data"
   ]
  },
  {
   "cell_type": "code",
   "execution_count": 5,
   "id": "ef8f1147-da76-4713-bd51-382e123802a6",
   "metadata": {
    "tags": []
   },
   "outputs": [
    {
     "name": "stdout",
     "output_type": "stream",
     "text": [
      "Range :  5\n"
     ]
    }
   ],
   "source": [
    "print(\"Range : \" , max(data1) - min(data1))"
   ]
  },
  {
   "cell_type": "markdown",
   "id": "cf30f1dd-66e5-4e18-b7b6-f8c5911b379a",
   "metadata": {},
   "source": [
    "## Variance\n",
    "how much the other values are far from mean\n",
    "\n",
    "higher variance means terms are far"
   ]
  },
  {
   "cell_type": "code",
   "execution_count": 6,
   "id": "236a064e-d245-4536-9af2-3aa8853d4327",
   "metadata": {
    "tags": []
   },
   "outputs": [
    {
     "data": {
      "text/plain": [
       "4.666666666666667"
      ]
     },
     "execution_count": 6,
     "metadata": {},
     "output_type": "execute_result"
    }
   ],
   "source": [
    "stat.variance(data1)"
   ]
  },
  {
   "cell_type": "code",
   "execution_count": 7,
   "id": "251c0127-97ff-47de-8bcf-4e3cd536df22",
   "metadata": {
    "tags": []
   },
   "outputs": [
    {
     "data": {
      "text/plain": [
       "85.5"
      ]
     },
     "execution_count": 7,
     "metadata": {},
     "output_type": "execute_result"
    }
   ],
   "source": [
    "stat.variance(data2)"
   ]
  },
  {
   "cell_type": "markdown",
   "id": "0fc32157-823b-4d5e-8819-a1c1547940bc",
   "metadata": {},
   "source": [
    "## Standard deviation\n",
    "root of variance"
   ]
  },
  {
   "cell_type": "code",
   "execution_count": 8,
   "id": "cb1eb13f-bb55-4747-a412-af079f50f987",
   "metadata": {
    "tags": []
   },
   "outputs": [
    {
     "data": {
      "text/plain": [
       "1.8708286933869707"
      ]
     },
     "execution_count": 8,
     "metadata": {},
     "output_type": "execute_result"
    }
   ],
   "source": [
    "stat.pstdev(data1)"
   ]
  },
  {
   "cell_type": "code",
   "execution_count": 9,
   "id": "c0899f5a-c052-4060-897d-3a70f7d1ecc0",
   "metadata": {
    "tags": []
   },
   "outputs": [
    {
     "data": {
      "text/plain": [
       "8.270429251254132"
      ]
     },
     "execution_count": 9,
     "metadata": {},
     "output_type": "execute_result"
    }
   ],
   "source": [
    "stat.pstdev(data2)"
   ]
  },
  {
   "cell_type": "code",
   "execution_count": 10,
   "id": "8789ba3d-d6f4-41a6-a593-c6f60a84ce46",
   "metadata": {
    "tags": []
   },
   "outputs": [],
   "source": [
    "import seaborn as sns\n",
    "import pandas as pd"
   ]
  },
  {
   "cell_type": "code",
   "execution_count": 11,
   "id": "4c42aab2-5b6c-45a9-b9e0-862481442a84",
   "metadata": {
    "tags": []
   },
   "outputs": [],
   "source": [
    "df = sns.load_dataset(\"mpg\")"
   ]
  },
  {
   "cell_type": "code",
   "execution_count": 12,
   "id": "423514e0-69bc-4f60-8757-3c27645f423e",
   "metadata": {
    "tags": []
   },
   "outputs": [
    {
     "data": {
      "text/html": [
       "<div>\n",
       "<style scoped>\n",
       "    .dataframe tbody tr th:only-of-type {\n",
       "        vertical-align: middle;\n",
       "    }\n",
       "\n",
       "    .dataframe tbody tr th {\n",
       "        vertical-align: top;\n",
       "    }\n",
       "\n",
       "    .dataframe thead th {\n",
       "        text-align: right;\n",
       "    }\n",
       "</style>\n",
       "<table border=\"1\" class=\"dataframe\">\n",
       "  <thead>\n",
       "    <tr style=\"text-align: right;\">\n",
       "      <th></th>\n",
       "      <th>mpg</th>\n",
       "      <th>cylinders</th>\n",
       "      <th>displacement</th>\n",
       "      <th>horsepower</th>\n",
       "      <th>weight</th>\n",
       "      <th>acceleration</th>\n",
       "      <th>model_year</th>\n",
       "      <th>origin</th>\n",
       "      <th>name</th>\n",
       "    </tr>\n",
       "  </thead>\n",
       "  <tbody>\n",
       "    <tr>\n",
       "      <th>0</th>\n",
       "      <td>18.0</td>\n",
       "      <td>8</td>\n",
       "      <td>307.0</td>\n",
       "      <td>130.0</td>\n",
       "      <td>3504</td>\n",
       "      <td>12.0</td>\n",
       "      <td>70</td>\n",
       "      <td>usa</td>\n",
       "      <td>chevrolet chevelle malibu</td>\n",
       "    </tr>\n",
       "    <tr>\n",
       "      <th>1</th>\n",
       "      <td>15.0</td>\n",
       "      <td>8</td>\n",
       "      <td>350.0</td>\n",
       "      <td>165.0</td>\n",
       "      <td>3693</td>\n",
       "      <td>11.5</td>\n",
       "      <td>70</td>\n",
       "      <td>usa</td>\n",
       "      <td>buick skylark 320</td>\n",
       "    </tr>\n",
       "    <tr>\n",
       "      <th>2</th>\n",
       "      <td>18.0</td>\n",
       "      <td>8</td>\n",
       "      <td>318.0</td>\n",
       "      <td>150.0</td>\n",
       "      <td>3436</td>\n",
       "      <td>11.0</td>\n",
       "      <td>70</td>\n",
       "      <td>usa</td>\n",
       "      <td>plymouth satellite</td>\n",
       "    </tr>\n",
       "    <tr>\n",
       "      <th>3</th>\n",
       "      <td>16.0</td>\n",
       "      <td>8</td>\n",
       "      <td>304.0</td>\n",
       "      <td>150.0</td>\n",
       "      <td>3433</td>\n",
       "      <td>12.0</td>\n",
       "      <td>70</td>\n",
       "      <td>usa</td>\n",
       "      <td>amc rebel sst</td>\n",
       "    </tr>\n",
       "    <tr>\n",
       "      <th>4</th>\n",
       "      <td>17.0</td>\n",
       "      <td>8</td>\n",
       "      <td>302.0</td>\n",
       "      <td>140.0</td>\n",
       "      <td>3449</td>\n",
       "      <td>10.5</td>\n",
       "      <td>70</td>\n",
       "      <td>usa</td>\n",
       "      <td>ford torino</td>\n",
       "    </tr>\n",
       "  </tbody>\n",
       "</table>\n",
       "</div>"
      ],
      "text/plain": [
       "    mpg  cylinders  displacement  horsepower  weight  acceleration  \\\n",
       "0  18.0          8         307.0       130.0    3504          12.0   \n",
       "1  15.0          8         350.0       165.0    3693          11.5   \n",
       "2  18.0          8         318.0       150.0    3436          11.0   \n",
       "3  16.0          8         304.0       150.0    3433          12.0   \n",
       "4  17.0          8         302.0       140.0    3449          10.5   \n",
       "\n",
       "   model_year origin                       name  \n",
       "0          70    usa  chevrolet chevelle malibu  \n",
       "1          70    usa          buick skylark 320  \n",
       "2          70    usa         plymouth satellite  \n",
       "3          70    usa              amc rebel sst  \n",
       "4          70    usa                ford torino  "
      ]
     },
     "execution_count": 12,
     "metadata": {},
     "output_type": "execute_result"
    }
   ],
   "source": [
    "df.head()"
   ]
  },
  {
   "cell_type": "code",
   "execution_count": 18,
   "id": "73fc2f52-9050-4a7c-9a53-51317d5d9d4a",
   "metadata": {
    "tags": []
   },
   "outputs": [
    {
     "name": "stdout",
     "output_type": "stream",
     "text": [
      "Range :  37.6\n",
      "variance :  61.0896107742744\n",
      "Std Deviation :  7.806159061274432\n"
     ]
    }
   ],
   "source": [
    "print(\"Range : \",df[\"mpg\"].max()-df[\"mpg\"].min())\n",
    "print(\"variance : \",stat.variance(df[\"mpg\"]))\n",
    "print(\"Std Deviation : \",stat.pstdev(df[\"mpg\"]))"
   ]
  },
  {
   "cell_type": "markdown",
   "id": "03d31083-900d-4c8a-8e69-586ad3a50c85",
   "metadata": {},
   "source": [
    "## Quartiles\n",
    "divides data into four euqal parts when it has been orderly arranged"
   ]
  },
  {
   "cell_type": "code",
   "execution_count": 19,
   "id": "98375b46-ac72-43a3-afc7-40061f2d4062",
   "metadata": {
    "tags": []
   },
   "outputs": [
    {
     "data": {
      "text/html": [
       "<div>\n",
       "<style scoped>\n",
       "    .dataframe tbody tr th:only-of-type {\n",
       "        vertical-align: middle;\n",
       "    }\n",
       "\n",
       "    .dataframe tbody tr th {\n",
       "        vertical-align: top;\n",
       "    }\n",
       "\n",
       "    .dataframe thead th {\n",
       "        text-align: right;\n",
       "    }\n",
       "</style>\n",
       "<table border=\"1\" class=\"dataframe\">\n",
       "  <thead>\n",
       "    <tr style=\"text-align: right;\">\n",
       "      <th></th>\n",
       "      <th>mpg</th>\n",
       "      <th>cylinders</th>\n",
       "      <th>displacement</th>\n",
       "      <th>horsepower</th>\n",
       "      <th>weight</th>\n",
       "      <th>acceleration</th>\n",
       "      <th>model_year</th>\n",
       "    </tr>\n",
       "  </thead>\n",
       "  <tbody>\n",
       "    <tr>\n",
       "      <th>count</th>\n",
       "      <td>398.000000</td>\n",
       "      <td>398.000000</td>\n",
       "      <td>398.000000</td>\n",
       "      <td>392.000000</td>\n",
       "      <td>398.000000</td>\n",
       "      <td>398.000000</td>\n",
       "      <td>398.000000</td>\n",
       "    </tr>\n",
       "    <tr>\n",
       "      <th>mean</th>\n",
       "      <td>23.514573</td>\n",
       "      <td>5.454774</td>\n",
       "      <td>193.425879</td>\n",
       "      <td>104.469388</td>\n",
       "      <td>2970.424623</td>\n",
       "      <td>15.568090</td>\n",
       "      <td>76.010050</td>\n",
       "    </tr>\n",
       "    <tr>\n",
       "      <th>std</th>\n",
       "      <td>7.815984</td>\n",
       "      <td>1.701004</td>\n",
       "      <td>104.269838</td>\n",
       "      <td>38.491160</td>\n",
       "      <td>846.841774</td>\n",
       "      <td>2.757689</td>\n",
       "      <td>3.697627</td>\n",
       "    </tr>\n",
       "    <tr>\n",
       "      <th>min</th>\n",
       "      <td>9.000000</td>\n",
       "      <td>3.000000</td>\n",
       "      <td>68.000000</td>\n",
       "      <td>46.000000</td>\n",
       "      <td>1613.000000</td>\n",
       "      <td>8.000000</td>\n",
       "      <td>70.000000</td>\n",
       "    </tr>\n",
       "    <tr>\n",
       "      <th>25%</th>\n",
       "      <td>17.500000</td>\n",
       "      <td>4.000000</td>\n",
       "      <td>104.250000</td>\n",
       "      <td>75.000000</td>\n",
       "      <td>2223.750000</td>\n",
       "      <td>13.825000</td>\n",
       "      <td>73.000000</td>\n",
       "    </tr>\n",
       "    <tr>\n",
       "      <th>50%</th>\n",
       "      <td>23.000000</td>\n",
       "      <td>4.000000</td>\n",
       "      <td>148.500000</td>\n",
       "      <td>93.500000</td>\n",
       "      <td>2803.500000</td>\n",
       "      <td>15.500000</td>\n",
       "      <td>76.000000</td>\n",
       "    </tr>\n",
       "    <tr>\n",
       "      <th>75%</th>\n",
       "      <td>29.000000</td>\n",
       "      <td>8.000000</td>\n",
       "      <td>262.000000</td>\n",
       "      <td>126.000000</td>\n",
       "      <td>3608.000000</td>\n",
       "      <td>17.175000</td>\n",
       "      <td>79.000000</td>\n",
       "    </tr>\n",
       "    <tr>\n",
       "      <th>max</th>\n",
       "      <td>46.600000</td>\n",
       "      <td>8.000000</td>\n",
       "      <td>455.000000</td>\n",
       "      <td>230.000000</td>\n",
       "      <td>5140.000000</td>\n",
       "      <td>24.800000</td>\n",
       "      <td>82.000000</td>\n",
       "    </tr>\n",
       "  </tbody>\n",
       "</table>\n",
       "</div>"
      ],
      "text/plain": [
       "              mpg   cylinders  displacement  horsepower       weight  \\\n",
       "count  398.000000  398.000000    398.000000  392.000000   398.000000   \n",
       "mean    23.514573    5.454774    193.425879  104.469388  2970.424623   \n",
       "std      7.815984    1.701004    104.269838   38.491160   846.841774   \n",
       "min      9.000000    3.000000     68.000000   46.000000  1613.000000   \n",
       "25%     17.500000    4.000000    104.250000   75.000000  2223.750000   \n",
       "50%     23.000000    4.000000    148.500000   93.500000  2803.500000   \n",
       "75%     29.000000    8.000000    262.000000  126.000000  3608.000000   \n",
       "max     46.600000    8.000000    455.000000  230.000000  5140.000000   \n",
       "\n",
       "       acceleration  model_year  \n",
       "count    398.000000  398.000000  \n",
       "mean      15.568090   76.010050  \n",
       "std        2.757689    3.697627  \n",
       "min        8.000000   70.000000  \n",
       "25%       13.825000   73.000000  \n",
       "50%       15.500000   76.000000  \n",
       "75%       17.175000   79.000000  \n",
       "max       24.800000   82.000000  "
      ]
     },
     "execution_count": 19,
     "metadata": {},
     "output_type": "execute_result"
    }
   ],
   "source": [
    "df.describe()"
   ]
  },
  {
   "cell_type": "markdown",
   "id": "d1d5b5bc-5d19-4de5-a22c-ea4b84d3f375",
   "metadata": {},
   "source": [
    "### Interqurtile range (IQR)\n",
    "q3 - q1\n",
    "We can find outliers using IQR\n",
    "i.e. anything below \n",
    "#### q1 - 1.5IQR and \n",
    "anything above \n",
    "#### q3 + 1.5IQR is an outlier"
   ]
  },
  {
   "cell_type": "markdown",
   "id": "d3f5a8eb-0b8b-447e-9bd5-08939624261c",
   "metadata": {},
   "source": [
    "# Relative Dispersion\n",
    "comparing two different units"
   ]
  },
  {
   "cell_type": "markdown",
   "id": "fd5773f4-0b85-41f2-bbb9-2b76e2c97c21",
   "metadata": {},
   "source": [
    "## Coefficient of Variation\n",
    "cv = sd/mean * 100\n",
    "#### more C.V. means group is more variable, less stable "
   ]
  },
  {
   "cell_type": "code",
   "execution_count": 25,
   "id": "55336f7a-749e-42fb-817f-2d7e52415ff8",
   "metadata": {
    "tags": []
   },
   "outputs": [],
   "source": [
    "data1 = [45,42,42,41,40]\n",
    "data2 = [54,48,42,33,33]"
   ]
  },
  {
   "cell_type": "code",
   "execution_count": 26,
   "id": "72e162b1-56f3-4af9-95ab-b9d1daff967b",
   "metadata": {
    "tags": []
   },
   "outputs": [],
   "source": [
    "cv1 = stat.pstdev(data1)/stat.mean(data1)\n",
    "cv2 = stat.pstdev(data2)/stat.mean(data2)"
   ]
  },
  {
   "cell_type": "code",
   "execution_count": 28,
   "id": "69b46404-eb3d-46e0-a637-24059fd5ce75",
   "metadata": {
    "tags": []
   },
   "outputs": [
    {
     "name": "stdout",
     "output_type": "stream",
     "text": [
      "3.984095364447979\n",
      "19.691498217271743\n"
     ]
    }
   ],
   "source": [
    "print(cv1*100)\n",
    "print(cv2*100)"
   ]
  },
  {
   "cell_type": "markdown",
   "id": "a237f6fd-0bfe-4093-8d97-3cdd9541c889",
   "metadata": {},
   "source": [
    "## Coefficient of Qurtile Deviation\n",
    "Q3-Q1 / Q3 + Q1\n"
   ]
  },
  {
   "cell_type": "code",
   "execution_count": null,
   "id": "d89c52ba-3d59-4bbe-9037-01d5a6685af5",
   "metadata": {},
   "outputs": [],
   "source": []
  }
 ],
 "metadata": {
  "kernelspec": {
   "display_name": "Python 3 (ipykernel)",
   "language": "python",
   "name": "python3"
  },
  "language_info": {
   "codemirror_mode": {
    "name": "ipython",
    "version": 3
   },
   "file_extension": ".py",
   "mimetype": "text/x-python",
   "name": "python",
   "nbconvert_exporter": "python",
   "pygments_lexer": "ipython3",
   "version": "3.11.5"
  }
 },
 "nbformat": 4,
 "nbformat_minor": 5
}
