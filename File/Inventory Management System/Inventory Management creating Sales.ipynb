{
 "cells": [
  {
   "cell_type": "code",
   "execution_count": 1,
   "id": "34b62248-1be4-4596-9882-ac977fedbeec",
   "metadata": {
    "tags": []
   },
   "outputs": [],
   "source": [
    "fd = open(\"Sales.txt\",'w')\n",
    "fd.close()"
   ]
  },
  {
   "cell_type": "code",
   "execution_count": 10,
   "id": "36dc90bd-f4b1-4dd3-8eba-85dc69d3fae2",
   "metadata": {
    "tags": []
   },
   "outputs": [
    {
     "name": "stdout",
     "output_type": "stream",
     "text": [
      "['1,Dairy Milk,10,100', '2,5 Star,10,170', '3,Perk,5,60', '4,Cake,500,10', '5,Milk,28,500']\n"
     ]
    },
    {
     "name": "stdin",
     "output_type": "stream",
     "text": [
      "Enter Name : aryan\n",
      "Enter Phone No:  9510233333\n",
      "Enter Email : aryan@gmail.com\n",
      "Enter the Id: 2\n"
     ]
    },
    {
     "name": "stdout",
     "output_type": "stream",
     "text": [
      "Total Quantity Available : 170\n"
     ]
    },
    {
     "name": "stdin",
     "output_type": "stream",
     "text": [
      "Enter total Quantity : 20\n"
     ]
    },
    {
     "name": "stdout",
     "output_type": "stream",
     "text": [
      "------------------------------\n",
      "Product Name    : 5 Star\n",
      "Product Price   : 10\n",
      "Purchase Qunt   : 20\n",
      "------------------------------\n",
      "Total Amount Due: 200\n",
      "------------------------------\n",
      "['1,Dairy Milk,10,100\\n', '2,5 Star,10,150\\n', '3,Perk,5,60\\n', '4,Cake,500,10\\n', '5,Milk,28,500']\n"
     ]
    }
   ],
   "source": [
    "import time\n",
    "fd = open(\"Inventory.txt\",'r')\n",
    "txt = fd.read()\n",
    "\n",
    "# Processing the text stored in file \n",
    "diff_prod = txt.split('\\n')\n",
    "fd.close()\n",
    "\n",
    "updated_prod_lst = []\n",
    "print(diff_prod)\n",
    "\n",
    "# Reading User Input\n",
    "ui_name = input(\"Enter Name :\")\n",
    "ui_phone = input(\"Enter Phone No: \")\n",
    "ui_mail = input(\"Enter Email :\")\n",
    "ui_prod_id = input(\"Enter the Id:\")\n",
    "\n",
    "flag = 0\n",
    "# Iterating through the Product details to perform varios tasks\n",
    "for prod in diff_prod:\n",
    "    prod_details = prod.split(',')\n",
    "    \n",
    "#     checking if the user entered correct Id\n",
    "    if prod_details[0] == ui_prod_id:\n",
    "        \n",
    "        print('Total Quantity Available :' ,prod_details[3])\n",
    "#       User Input for quantity\n",
    "        ui_prod_qu = int(input(\"Enter total Quantity :\"))\n",
    "        \n",
    "#       Condition for checking if the quantity asked by user is available in inventory or not\n",
    "        if (int(prod_details[3]) >= ui_prod_qu):\n",
    "            print(\"-\"*30)\n",
    "            print('Product Name    :',prod_details[1])\n",
    "            print('Product Price   :',prod_details[2])\n",
    "            print('Purchase Qunt   :',ui_prod_qu)\n",
    "            print(\"-\"*30)\n",
    "            print(\"Total Amount Due:\",int(prod_details[2]) * ui_prod_qu)\n",
    "            print(\"-\"*30)\n",
    "    \n",
    "#           Updating the Quantity.\n",
    "            prod_details[3] = str(int(prod_details[3]) - ui_prod_qu)\n",
    "            flag = 1\n",
    "        \n",
    "#           Updating the Sales File\n",
    "            fd_sale = open(\"Sales.txt\",'a')\n",
    "            purchase_transaction = ui_name + \",\" + ui_phone + \",\" + ui_mail + \",\" + ui_prod_id + \",\" + str(ui_prod_qu) + \",\" + str(int(prod_details[2]) * ui_prod_qu) + \",\" + time.ctime()\n",
    "            fd_sale.write(purchase_transaction)\n",
    "            fd_sale.close()\n",
    "        else:\n",
    "            print(\"Not enough Quantity\")\n",
    "            \n",
    "#   Storing the updated values\n",
    "    updated_prod_lst.append(prod_details)\n",
    " \n",
    "# Used to Update the File\n",
    "if flag == 1:\n",
    "    file_write = []\n",
    "    for prods in updated_prod_lst:\n",
    "        file_write.append(prods[0]+\",\"+prods[1]+\",\"+prods[2]+\",\"+prods[3]+\"\\n\")\n",
    "\n",
    "    file_write[-1] = file_write[-1][:-1] #slicing the last string so that \\n is not stored in the last record\n",
    "    print(file_write)\n",
    "\n",
    "    # Updating in the original File\n",
    "    fd = open(\"Inventory.txt\",'w')\n",
    "    for i in file_write:\n",
    "        fd.write(i)\n",
    "    fd.close()\n"
   ]
  },
  {
   "cell_type": "code",
   "execution_count": 9,
   "id": "48fc0872-7ba8-45fb-97d6-438e2c939695",
   "metadata": {
    "tags": []
   },
   "outputs": [
    {
     "data": {
      "text/plain": [
       "'Mon Feb 12 15:02:04 2024'"
      ]
     },
     "execution_count": 9,
     "metadata": {},
     "output_type": "execute_result"
    }
   ],
   "source": [
    "import time\n",
    "time.ctime()"
   ]
  },
  {
   "cell_type": "code",
   "execution_count": null,
   "id": "f0113124-84cd-4a13-b2ff-f8ec1fe92846",
   "metadata": {},
   "outputs": [],
   "source": []
  }
 ],
 "metadata": {
  "kernelspec": {
   "display_name": "Python 3 (ipykernel)",
   "language": "python",
   "name": "python3"
  },
  "language_info": {
   "codemirror_mode": {
    "name": "ipython",
    "version": 3
   },
   "file_extension": ".py",
   "mimetype": "text/x-python",
   "name": "python",
   "nbconvert_exporter": "python",
   "pygments_lexer": "ipython3",
   "version": "3.11.5"
  }
 },
 "nbformat": 4,
 "nbformat_minor": 5
}
