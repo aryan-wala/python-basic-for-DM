{
 "cells": [
  {
   "cell_type": "markdown",
   "id": "7a849edb-fe43-4efa-9141-6decfa258980",
   "metadata": {},
   "source": [
    "## Inventory Management System using Files"
   ]
  },
  {
   "cell_type": "code",
   "execution_count": 2,
   "id": "14d9250f-09c0-48ed-8c7c-94e475b2a0c6",
   "metadata": {
    "tags": []
   },
   "outputs": [],
   "source": [
    "fd = open(\"Inventory.txt\",'w') #creting file\n",
    "fd.close()"
   ]
  },
  {
   "cell_type": "markdown",
   "id": "f9001a27-bb83-407f-934b-2e7ea33ef300",
   "metadata": {},
   "source": [
    "## Inventory File Data\n",
    "1. Product Id\n",
    "2. Product Name\n",
    "3. Product Price\n",
    "4. Total Quantity"
   ]
  },
  {
   "cell_type": "code",
   "execution_count": 4,
   "id": "58432352-5365-40f6-8883-c8779498a765",
   "metadata": {
    "tags": []
   },
   "outputs": [],
   "source": [
    "fd = open(\"Inventory.txt\",'r')\n",
    "\n",
    "txt = fd.read()\n",
    "\n",
    "fd.close()"
   ]
  },
  {
   "cell_type": "code",
   "execution_count": 5,
   "id": "1478058a-f63e-4085-8c26-e12cfb85f6bd",
   "metadata": {
    "tags": []
   },
   "outputs": [
    {
     "data": {
      "text/plain": [
       "'1,Dairy Milk,10,100\\n2,5 Star,10,200\\n3,Perk,5,100\\n4,Cake,500,10\\n5,Milk,28,500'"
      ]
     },
     "execution_count": 5,
     "metadata": {},
     "output_type": "execute_result"
    }
   ],
   "source": [
    "txt"
   ]
  },
  {
   "cell_type": "code",
   "execution_count": 6,
   "id": "a72c2973-9339-4179-8a54-c7072fe745e7",
   "metadata": {
    "tags": []
   },
   "outputs": [
    {
     "name": "stdout",
     "output_type": "stream",
     "text": [
      "['1,Dairy Milk,10,100', '2,5 Star,10,200', '3,Perk,5,100', '4,Cake,500,10', '5,Milk,28,500']\n"
     ]
    }
   ],
   "source": [
    "diff_prod = txt.split(\"\\n\")\n",
    "print(diff_prod)"
   ]
  },
  {
   "cell_type": "markdown",
   "id": "a80f0abf-d6b8-4748-bb71-ff91a1c077af",
   "metadata": {},
   "source": [
    "## Going through different products"
   ]
  },
  {
   "cell_type": "code",
   "execution_count": 7,
   "id": "1edbf417-a201-4a43-9208-5be7dadb9ad7",
   "metadata": {
    "tags": []
   },
   "outputs": [
    {
     "name": "stdout",
     "output_type": "stream",
     "text": [
      "1,Dairy Milk,10,100\n",
      "2,5 Star,10,200\n",
      "3,Perk,5,100\n",
      "4,Cake,500,10\n",
      "5,Milk,28,500\n"
     ]
    }
   ],
   "source": [
    "for prod in diff_prod:\n",
    "    print(prod)"
   ]
  },
  {
   "cell_type": "code",
   "execution_count": 9,
   "id": "cad505f7-d029-4c4f-a3db-f0f0e6f89586",
   "metadata": {
    "tags": []
   },
   "outputs": [
    {
     "name": "stdout",
     "output_type": "stream",
     "text": [
      "1,Dairy Milk,10,100\n",
      "2,5 Star,10,200\n",
      "3,Perk,5,100\n",
      "4,Cake,500,10\n",
      "5,Milk,28,500\n"
     ]
    }
   ],
   "source": [
    "for prod in diff_prod:\n",
    "    for i in prod:\n",
    "        print(i,end=\"\")\n",
    "    print()"
   ]
  },
  {
   "cell_type": "code",
   "execution_count": 11,
   "id": "a0afabdb-cf6e-4447-825f-67c2298c6578",
   "metadata": {
    "tags": []
   },
   "outputs": [
    {
     "name": "stdout",
     "output_type": "stream",
     "text": [
      "Dairy Milk : 100\n",
      "5 Star : 200\n",
      "Perk : 100\n",
      "Cake : 10\n",
      "Milk : 500\n"
     ]
    }
   ],
   "source": [
    "#Printing only Name and Price\n",
    "for prod in diff_prod:\n",
    "    prod_details = prod.split(',')\n",
    "    print(prod_details[1],\":\",prod_details[3])"
   ]
  },
  {
   "cell_type": "markdown",
   "id": "6d471483-f801-43c7-83c0-f4033216433b",
   "metadata": {},
   "source": [
    "## Bill Generation using User Input"
   ]
  },
  {
   "cell_type": "code",
   "execution_count": 18,
   "id": "f58ac743-310d-4d78-8b7c-d3d24020fe16",
   "metadata": {
    "tags": []
   },
   "outputs": [
    {
     "name": "stdout",
     "output_type": "stream",
     "text": [
      "['1,Dairy Milk,10,100', '2,5 Star,10,200', '3,Perk,5,100', '4,Cake,500,10', '5,Milk,28,500']\n"
     ]
    },
    {
     "name": "stdin",
     "output_type": "stream",
     "text": [
      "Enter the Id: 1\n"
     ]
    },
    {
     "name": "stdout",
     "output_type": "stream",
     "text": [
      "Total Quantity Available : 100\n"
     ]
    },
    {
     "name": "stdin",
     "output_type": "stream",
     "text": [
      "Enter total Quantity : 4\n"
     ]
    },
    {
     "name": "stdout",
     "output_type": "stream",
     "text": [
      "------------------------------\n",
      "Product Name    : Dairy Milk\n",
      "Product Price   : 10\n",
      "Purchase Qunt   : 4\n",
      "------------------------------\n",
      "Total Amount Due: 40\n",
      "------------------------------\n"
     ]
    }
   ],
   "source": [
    "print(diff_prod)\n",
    "ui_prod_id = input(\"Enter the Id:\")\n",
    "for prod in diff_prod:\n",
    "    prod_details = prod.split(',')\n",
    "    if prod_details[0] == ui_prod_id:\n",
    "        print('Total Quantity Available :' ,prod_details[3])\n",
    "        ui_prod_qu = input(\"Enter total Quantity :\")\n",
    "        print(\"-\"*30)\n",
    "        print('Product Name    :',prod_details[1])\n",
    "        print('Product Price   :',prod_details[2])\n",
    "        print('Purchase Qunt   :',ui_prod_qu)\n",
    "        print(\"-\"*30)\n",
    "        print(\"Total Amount Due:\",int(prod_details[2]) * int(ui_prod_qu))\n",
    "        print(\"-\"*30)\n"
   ]
  },
  {
   "cell_type": "markdown",
   "id": "9a5f4b78-b28b-4041-b546-f4deec1d1fbe",
   "metadata": {},
   "source": [
    "## Updating in the File"
   ]
  },
  {
   "cell_type": "code",
   "execution_count": 51,
   "id": "81abb921-02c5-42ab-9128-3bafee4c6c45",
   "metadata": {
    "tags": []
   },
   "outputs": [
    {
     "name": "stdout",
     "output_type": "stream",
     "text": [
      "['1,Dairy Milk,10,96', '2,5 Star,10,200', '3,Perk,5,70', '4,Cake,500,8', '5,Milk,28,500']\n"
     ]
    },
    {
     "name": "stdin",
     "output_type": "stream",
     "text": [
      "Enter the Id: 3\n"
     ]
    },
    {
     "name": "stdout",
     "output_type": "stream",
     "text": [
      "Total Quantity Available : 70\n"
     ]
    },
    {
     "name": "stdin",
     "output_type": "stream",
     "text": [
      "Enter total Quantity : 010\n"
     ]
    },
    {
     "name": "stdout",
     "output_type": "stream",
     "text": [
      "------------------------------\n",
      "Product Name    : Perk\n",
      "Product Price   : 5\n",
      "Purchase Qunt   : 10\n",
      "------------------------------\n",
      "Total Amount Due: 50\n",
      "------------------------------\n",
      "['1,Dairy Milk,10,96\\n', '2,5 Star,10,200\\n', '3,Perk,5,60\\n', '4,Cake,500,8\\n', '5,Milk,28,500']\n"
     ]
    }
   ],
   "source": [
    "#Reading The File\n",
    "fd = open(\"Inventory.txt\",'r')\n",
    "txt = fd.read()\n",
    "\n",
    "# Processing the text stored in file \n",
    "diff_prod = txt.split('\\n')\n",
    "fd.close()\n",
    "\n",
    "updated_prod_lst = []\n",
    "print(diff_prod)\n",
    "\n",
    "# Reading User Input\n",
    "ui_prod_id = input(\"Enter the Id:\")\n",
    "\n",
    "flag = 0\n",
    "# Iterating through the Product details to perform varios tasks\n",
    "for prod in diff_prod:\n",
    "    prod_details = prod.split(',')\n",
    "    \n",
    "#     checking if the user entered correct Id\n",
    "    if prod_details[0] == ui_prod_id:\n",
    "        \n",
    "        print('Total Quantity Available :' ,prod_details[3])\n",
    "#       User Input for quantity\n",
    "        ui_prod_qu = int(input(\"Enter total Quantity :\"))\n",
    "        \n",
    "#       Condition for checking if the quantity asked by user is available in inventory or not\n",
    "        if (int(prod_details[3]) >= ui_prod_qu):\n",
    "            print(\"-\"*30)\n",
    "            print('Product Name    :',prod_details[1])\n",
    "            print('Product Price   :',prod_details[2])\n",
    "            print('Purchase Qunt   :',ui_prod_qu)\n",
    "            print(\"-\"*30)\n",
    "            print(\"Total Amount Due:\",int(prod_details[2]) * ui_prod_qu)\n",
    "            print(\"-\"*30)\n",
    "    \n",
    "#           Updating the Quantity.\n",
    "            prod_details[3] = str(int(prod_details[3]) - ui_prod_qu)\n",
    "            flag = 1\n",
    "        else:\n",
    "            print(\"Not enough Quantity\")\n",
    "            \n",
    "#   Storing the updated values\n",
    "    updated_prod_lst.append(prod_details)\n",
    " \n",
    "# Used to Update the File\n",
    "if flag == 1:\n",
    "    file_write = []\n",
    "    for prods in updated_prod_lst:\n",
    "        file_write.append(prods[0]+\",\"+prods[1]+\",\"+prods[2]+\",\"+prods[3]+\"\\n\")\n",
    "\n",
    "    file_write[-1] = file_write[-1][:-1] #slicing the last string so that \\n is not stored in the last record\n",
    "    print(file_write)\n",
    "\n",
    "    # Updating in the original File\n",
    "    fd = open(\"Inventory.txt\",'w')\n",
    "    for i in file_write:\n",
    "        fd.write(i)\n",
    "    fd.close()\n",
    "\n"
   ]
  },
  {
   "cell_type": "code",
   "execution_count": 7,
   "id": "98f51e67-f572-492d-a0a6-57087d01fc63",
   "metadata": {},
   "outputs": [
    {
     "name": "stdout",
     "output_type": "stream",
     "text": [
      "['1', '2', '3']\n"
     ]
    },
    {
     "data": {
      "text/plain": [
       "['1', '2', '3']"
      ]
     },
     "execution_count": 7,
     "metadata": {},
     "output_type": "execute_result"
    }
   ],
   "source": [
    "fd = open(\"Inventory.txt\",'r')\n",
    "prod = fd.read().split(\"\\n\")\n",
    "\n",
    "lst = ['1','2','3']\n",
    "print(lst)\n",
    "lst"
   ]
  },
  {
   "cell_type": "code",
   "execution_count": null,
   "id": "fb89bc19-4d95-43f1-a4b9-9308e8ed5531",
   "metadata": {},
   "outputs": [],
   "source": []
  }
 ],
 "metadata": {
  "kernelspec": {
   "display_name": "Python 3 (ipykernel)",
   "language": "python",
   "name": "python3"
  },
  "language_info": {
   "codemirror_mode": {
    "name": "ipython",
    "version": 3
   },
   "file_extension": ".py",
   "mimetype": "text/x-python",
   "name": "python",
   "nbconvert_exporter": "python",
   "pygments_lexer": "ipython3",
   "version": "3.11.5"
  }
 },
 "nbformat": 4,
 "nbformat_minor": 5
}
