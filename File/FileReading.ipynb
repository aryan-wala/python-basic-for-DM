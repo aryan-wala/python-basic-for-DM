{
 "cells": [
  {
   "cell_type": "code",
   "execution_count": 1,
   "id": "c9cab1a9-af9e-4947-b7e1-9148fe8259a1",
   "metadata": {
    "tags": []
   },
   "outputs": [
    {
     "name": "stdout",
     "output_type": "stream",
     "text": [
      "Hello everyone i am aryan\n"
     ]
    }
   ],
   "source": [
    "fd = open('data1.txt','r')\n",
    "\n",
    "txt = fd.read()\n",
    "print(txt)\n",
    "\n",
    "fd.close()"
   ]
  },
  {
   "cell_type": "code",
   "execution_count": 3,
   "id": "de995e4a-7c1f-40a2-8b6a-3d6471156565",
   "metadata": {
    "tags": []
   },
   "outputs": [
    {
     "name": "stdout",
     "output_type": "stream",
     "text": [
      "['Hello', 'Everyone.', 'How', 'are', 'you?']\n"
     ]
    }
   ],
   "source": [
    "fd = open('data.txt','r') #if we dont specify extension, then it will throw error\n",
    "\n",
    "txt = fd.read()\n",
    "words = txt.split()\n",
    "print(words)\n",
    "\n",
    "fd.close()"
   ]
  }
 ],
 "metadata": {
  "kernelspec": {
   "display_name": "Python 3 (ipykernel)",
   "language": "python",
   "name": "python3"
  },
  "language_info": {
   "codemirror_mode": {
    "name": "ipython",
    "version": 3
   },
   "file_extension": ".py",
   "mimetype": "text/x-python",
   "name": "python",
   "nbconvert_exporter": "python",
   "pygments_lexer": "ipython3",
   "version": "3.11.5"
  }
 },
 "nbformat": 4,
 "nbformat_minor": 5
}
