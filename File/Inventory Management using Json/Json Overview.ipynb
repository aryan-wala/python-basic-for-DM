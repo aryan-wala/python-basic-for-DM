{
 "cells": [
  {
   "cell_type": "markdown",
   "id": "e7cbcf62-646c-4595-97da-710760cb7263",
   "metadata": {},
   "source": [
    "## Json uses dictonaries"
   ]
  },
  {
   "cell_type": "code",
   "execution_count": 1,
   "id": "ff3cb8e7-b491-4dd0-9f35-9824260e892b",
   "metadata": {
    "tags": []
   },
   "outputs": [],
   "source": [
    "record = {1001 : {\"Name\" : \"5 Star\", \"Price\" : 5, \"Quantity\":300},\n",
    "          1002 : {\"Name\" : \"Dairy Milk\", \"Price\" : 10, \"Quantity\":500},\n",
    "          1003 : {\"Name\" : \"Perk\", \"Price\" : 2, \"Quantity\":500},\n",
    "          1004 : {\"Name\" : \"Kiss Me\", \"Price\" : 1, \"Quantity\":1000},\n",
    "          1005 : {\"Name\" : \"Pepsi\", \"Price\" : 20, \"Quantity\":100}}"
   ]
  },
  {
   "cell_type": "code",
   "execution_count": 2,
   "id": "8098597a-0ad9-4524-8ad6-afc864f07e8e",
   "metadata": {
    "tags": []
   },
   "outputs": [
    {
     "name": "stdout",
     "output_type": "stream",
     "text": [
      "{1001: {'Name': '5 Star', 'Price': 5, 'Quantity': 300}, 1002: {'Name': 'Dairy Milk', 'Price': 10, 'Quantity': 500}, 1003: {'Name': 'Perk', 'Price': 2, 'Quantity': 500}, 1004: {'Name': 'Kiss Me', 'Price': 1, 'Quantity': 1000}, 1005: {'Name': 'Pepsi', 'Price': 20, 'Quantity': 100}}\n"
     ]
    }
   ],
   "source": [
    "print(record)"
   ]
  },
  {
   "cell_type": "code",
   "execution_count": 4,
   "id": "2f468567-aa58-4972-9c6f-9398ee0ffa3f",
   "metadata": {
    "tags": []
   },
   "outputs": [
    {
     "name": "stdout",
     "output_type": "stream",
     "text": [
      "{'Name': '5 Star', 'Price': 5, 'Quantity': 300}\n"
     ]
    }
   ],
   "source": [
    "print(record[1001])"
   ]
  },
  {
   "cell_type": "code",
   "execution_count": 24,
   "id": "f8111cd5-042d-4052-b3f0-97b773994ec5",
   "metadata": {
    "tags": []
   },
   "outputs": [
    {
     "name": "stdout",
     "output_type": "stream",
     "text": [
      "1001 : 5 Star,1001 : 5,1001 : 300,\n",
      "1002 : Dairy Milk,1002 : 10,1002 : 500,\n",
      "1003 : Perk,1003 : 2,1003 : 500,\n",
      "1004 : Kiss Me,1004 : 1,1004 : 1000,\n",
      "1005 : Pepsi,1005 : 20,1005 : 100,\n"
     ]
    }
   ],
   "source": [
    "lst = [\"Name\",\"Price\",\"Quantity\"]\n",
    "for i in record.keys():\n",
    "    for j in lst:\n",
    "        print(str(i)+ \" : \" + str(record[i][j]),end=\",\")\n",
    "    print()"
   ]
  }
 ],
 "metadata": {
  "kernelspec": {
   "display_name": "Python 3 (ipykernel)",
   "language": "python",
   "name": "python3"
  },
  "language_info": {
   "codemirror_mode": {
    "name": "ipython",
    "version": 3
   },
   "file_extension": ".py",
   "mimetype": "text/x-python",
   "name": "python",
   "nbconvert_exporter": "python",
   "pygments_lexer": "ipython3",
   "version": "3.11.5"
  }
 },
 "nbformat": 4,
 "nbformat_minor": 5
}
