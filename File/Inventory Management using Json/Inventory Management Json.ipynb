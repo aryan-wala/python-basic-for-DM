{
 "cells": [
  {
   "cell_type": "code",
   "execution_count": 7,
   "id": "3321abb2-26dc-4797-8930-47301f8cd572",
   "metadata": {
    "tags": []
   },
   "outputs": [],
   "source": [
    "import json\n",
    "menu = {1001 : {\"Name\" : \"5-Star\", \"Price\" : 5, \"Quantity\":300},\n",
    "          1002 : {\"Name\" : \"Dairy Milk\", \"Price\" : 10, \"Quantity\":500},\n",
    "          1003 : {\"Name\" : \"Perk\", \"Price\" : 2, \"Quantity\":500},\n",
    "          1004 : {\"Name\" : \"Kiss Me\", \"Price\" : 1, \"Quantity\":1000},\n",
    "          1005 : {\"Name\" : \"Pepsi\", \"Price\" : 20, \"Quantity\":100}}"
   ]
  },
  {
   "cell_type": "code",
   "execution_count": 9,
   "id": "0d172dd7-6204-4efa-9829-fd8f19364481",
   "metadata": {
    "tags": []
   },
   "outputs": [
    {
     "name": "stdout",
     "output_type": "stream",
     "text": [
      "-------------------MENU----------------------\n",
      "1001  :  5-Star 5 300\n",
      "1002  :  Dairy Milk 10 500\n",
      "1003  :  Perk 2 500\n",
      "1004  :  Kiss Me 1 1000\n",
      "1005  :  Pepsi 20 100\n",
      "----------------------------------------------\n"
     ]
    },
    {
     "name": "stdin",
     "output_type": "stream",
     "text": [
      "Enter id of chocolate : 1001\n"
     ]
    },
    {
     "name": "stdout",
     "output_type": "stream",
     "text": [
      "Name     : 5-Star\n",
      "Price    : 5\n"
     ]
    },
    {
     "name": "stdin",
     "output_type": "stream",
     "text": [
      "Quantity : 2\n"
     ]
    },
    {
     "name": "stdout",
     "output_type": "stream",
     "text": [
      "----------------------------------------------\n",
      "Billing Amount : 10\n",
      "<class 'str'>\n",
      "\n",
      "-------------------MENU----------------------\n",
      "1001  :  5-Star 5 298\n",
      "1002  :  Dairy Milk 10 500\n",
      "1003  :  Perk 2 500\n",
      "1004  :  Kiss Me 1 1000\n",
      "1005  :  Pepsi 20 100\n",
      "----------------------------------------------\n"
     ]
    }
   ],
   "source": [
    "# Printing Menu\n",
    "def printMenu():\n",
    "    print(\"-------------------MENU----------------------\")\n",
    "    for i in menu.keys():\n",
    "        print(i , \" : \", menu[i][\"Name\"],menu[i][\"Price\"],menu[i][\"Quantity\"])\n",
    "    print(\"----------------------------------------------\")\n",
    "\n",
    "printMenu()\n",
    "ui_pid = int(input(\"Enter id of chocolate :\"))\n",
    "\n",
    "if ui_pid in menu.keys():\n",
    "    print(\"Name     :\",menu[ui_pid][\"Name\"])\n",
    "    print(\"Price    :\",menu[ui_pid][\"Price\"])\n",
    "    ui_qun = int(input(\"Quantity :\"))\n",
    "    \n",
    "    print(\"----------------------------------------------\")\n",
    "    print(\"Billing Amount :\" , menu[ui_pid][\"Price\"] * ui_qun)\n",
    "    menu[ui_pid][\"Quantity\"] = menu[ui_pid][\"Quantity\"] - ui_qun\n",
    "    js = json.dumps(menu)  # dumps is a python function which converts dict to string \n",
    "    fd = open(\"Resource.json\",\"w\")\n",
    "    fd.write(js)\n",
    "    fd.close()\n",
    "    print(type(js))\n",
    "print()\n",
    "printMenu()\n"
   ]
  },
  {
   "cell_type": "markdown",
   "id": "fe36d28a-39c4-414c-8b1f-4868f6774c02",
   "metadata": {},
   "source": [
    "## Reading the Json File"
   ]
  },
  {
   "cell_type": "code",
   "execution_count": 17,
   "id": "e24e4500-0f03-47b8-983f-9ebb06ad44a0",
   "metadata": {
    "tags": []
   },
   "outputs": [
    {
     "name": "stdout",
     "output_type": "stream",
     "text": [
      "-------------------MENU----------------------\n",
      "1001  :  5-Star 5 298\n",
      "1002  :  Dairy Milk 10 500\n",
      "1003  :  Perk 2 500\n",
      "1004  :  Kiss Me 1 1000\n",
      "1005  :  Pepsi 20 100\n",
      "----------------------------------------------\n"
     ]
    },
    {
     "name": "stdin",
     "output_type": "stream",
     "text": [
      "Enter id of chocolate : 1001\n"
     ]
    },
    {
     "name": "stdout",
     "output_type": "stream",
     "text": [
      "Name     : 5-Star\n",
      "Price    : 5\n"
     ]
    },
    {
     "name": "stdin",
     "output_type": "stream",
     "text": [
      "Quantity : 10\n"
     ]
    },
    {
     "name": "stdout",
     "output_type": "stream",
     "text": [
      "----------------------------------------------\n",
      "Billing Amount : 50\n",
      "\n",
      "-------------------MENU----------------------\n",
      "1001  :  5-Star 5 288\n",
      "1002  :  Dairy Milk 10 500\n",
      "1003  :  Perk 2 500\n",
      "1004  :  Kiss Me 1 1000\n",
      "1005  :  Pepsi 20 100\n",
      "----------------------------------------------\n"
     ]
    }
   ],
   "source": [
    "fd = open(\"Resource.json\",'r')\n",
    "js = fd.read()  # reads a string\n",
    "fd.close()\n",
    "\n",
    "import json \n",
    "menu1 = json.loads(js) # loads() converts string to dict\n",
    "\n",
    "def printMenu():\n",
    "    print(\"-------------------MENU----------------------\")\n",
    "    for i in menu1.keys():\n",
    "        print(i , \" : \", menu1[i][\"Name\"],menu1[i][\"Price\"],menu1[i][\"Quantity\"])\n",
    "    print(\"----------------------------------------------\")\n",
    "\n",
    "printMenu()\n",
    "ui_pid = str(input(\"Enter id of chocolate :\"))\n",
    "\n",
    "if ui_pid in menu1.keys():\n",
    "    print(\"Name     :\",menu1[ui_pid][\"Name\"])\n",
    "    print(\"Price    :\",menu1[ui_pid][\"Price\"])\n",
    "    ui_qun = int(input(\"Quantity :\"))\n",
    "    \n",
    "    if ui_qun <= menu1[ui_pid][\"Quantity\"]:\n",
    "    \n",
    "        print(\"----------------------------------------------\")\n",
    "        print(\"Billing Amount :\" , menu1[ui_pid][\"Price\"] * ui_qun)\n",
    "        menu1[ui_pid][\"Quantity\"] = menu1[ui_pid][\"Quantity\"] - ui_qun\n",
    "        js = json.dumps(menu1)\n",
    "        fd = open(\"Resource.json\",\"w\")\n",
    "        fd.write(js)\n",
    "        fd.close()\n",
    "    else:\n",
    "        print(\"Not Enough Quantity\")\n",
    "print()\n",
    "printMenu()"
   ]
  },
  {
   "cell_type": "markdown",
   "id": "0978c52b-83c5-46bd-99bb-2fc8d6e27174",
   "metadata": {},
   "source": [
    "## Generating Sales"
   ]
  },
  {
   "cell_type": "code",
   "execution_count": 56,
   "id": "b9fb3de8-754f-409f-899d-86b315e5e612",
   "metadata": {
    "tags": []
   },
   "outputs": [
    {
     "name": "stdout",
     "output_type": "stream",
     "text": [
      "-------------------MENU----------------------\n",
      "1001  :  5-Star 5 290\n",
      "1002  :  Dairy Milk 10 600\n",
      "1003  :  Perk 2 550\n",
      "1004  :  Kiss Me 1 1000\n",
      "1005  :  Pepsi 20 198\n",
      "----------------------------------------------\n"
     ]
    },
    {
     "name": "stdin",
     "output_type": "stream",
     "text": [
      "Enter your Name   : vraj\n",
      "Enter your Phone : 1902938475\n",
      "Enter your mail   : vraj@gmail.com\n",
      "Enter id of chocolate : 1002\n"
     ]
    },
    {
     "name": "stdout",
     "output_type": "stream",
     "text": [
      "Name     : Dairy Milk\n",
      "Price    : 10\n"
     ]
    },
    {
     "name": "stdin",
     "output_type": "stream",
     "text": [
      "Quantity : 100\n"
     ]
    },
    {
     "name": "stdout",
     "output_type": "stream",
     "text": [
      "----------------------------------------------\n",
      "Billing Amount : 1000\n",
      "\n",
      "-------------------MENU----------------------\n",
      "1001  :  5-Star 5 290\n",
      "1002  :  Dairy Milk 10 500\n",
      "1003  :  Perk 2 550\n",
      "1004  :  Kiss Me 1 1000\n",
      "1005  :  Pepsi 20 198\n",
      "----------------------------------------------\n"
     ]
    }
   ],
   "source": [
    "fd = open(\"Resource.json\",'r')\n",
    "js = fd.read()  # reads a string\n",
    "fd.close()\n",
    "\n",
    "import json \n",
    "import time\n",
    "menu1 = json.loads(js) # loads() converts string to dict\n",
    "\n",
    "printMenu()\n",
    "ui_name = input(\"Enter your Name   :\")\n",
    "ui_phone = input(\"Enter your Phone :\")\n",
    "ui_mail = input(\"Enter your mail   :\")\n",
    "\n",
    "ui_pid = str(input(\"Enter id of chocolate :\"))\n",
    "\n",
    "def printMenu():\n",
    "    print(\"-------------------MENU----------------------\")\n",
    "    for i in menu1.keys():\n",
    "        print(i , \" : \", menu1[i][\"Name\"],menu1[i][\"Price\"],menu1[i][\"Quantity\"])\n",
    "    print(\"----------------------------------------------\")\n",
    "\n",
    "def generateSale():\n",
    "    fd = open(\"Sales.txt\",'r')\n",
    "    rows = fd.read()\n",
    "    fd.close()\n",
    "    t_id = rows.split(\"\\n\")\n",
    "    \n",
    "    sale = str(len(t_id))+ \",\" + ui_name +\",\" + ui_phone+\",\" + ui_mail+\",\" + str(menu1[ui_pid][\"Price\"])+\",\" + str(ui_qun)+\",\" + str(menu1[ui_pid][\"Price\"] * ui_qun)+\",\" + time.ctime() + \"\\n\"\n",
    "    fd = open(\"Sales.txt\",'a')\n",
    "    fd.write(sale)\n",
    "    fd.close()\n",
    "    \n",
    "if ui_pid in menu1.keys():\n",
    "    print(\"Name     :\",menu1[ui_pid][\"Name\"])\n",
    "    print(\"Price    :\",menu1[ui_pid][\"Price\"])\n",
    "    ui_qun = int(input(\"Quantity :\"))\n",
    "    \n",
    "    if ui_qun <= menu1[ui_pid][\"Quantity\"]:\n",
    "    \n",
    "        print(\"----------------------------------------------\")\n",
    "        print(\"Billing Amount :\" , menu1[ui_pid][\"Price\"] * ui_qun)\n",
    "        menu1[ui_pid][\"Quantity\"] = menu1[ui_pid][\"Quantity\"] - ui_qun\n",
    "        js = json.dumps(menu1)\n",
    "        fd = open(\"Resource.json\",\"w\")\n",
    "        fd.write(js)\n",
    "        fd.close()\n",
    "        generateSale()\n",
    "    else:\n",
    "        print(\"Not Enough Quantity\")\n",
    "print()\n",
    "printMenu()"
   ]
  },
  {
   "cell_type": "code",
   "execution_count": 58,
   "id": "037329ed-8c25-4e92-8fe8-7ea6ba090c9a",
   "metadata": {
    "tags": []
   },
   "outputs": [
    {
     "data": {
      "text/plain": [
       "{'1001': {'Name': '5-Star', 'Price': 5, 'Quantity': 290},\n",
       " '1002': {'Name': 'Dairy Milk', 'Price': 10, 'Quantity': 500},\n",
       " '1003': {'Name': 'Perk', 'Price': 2, 'Quantity': 550},\n",
       " '1004': {'Name': 'Kiss Me', 'Price': 1, 'Quantity': 1000},\n",
       " '1005': {'Name': 'Pepsi', 'Price': 20, 'Quantity': 198}}"
      ]
     },
     "execution_count": 58,
     "metadata": {},
     "output_type": "execute_result"
    }
   ],
   "source": [
    "menu1"
   ]
  }
 ],
 "metadata": {
  "kernelspec": {
   "display_name": "Python 3 (ipykernel)",
   "language": "python",
   "name": "python3"
  },
  "language_info": {
   "codemirror_mode": {
    "name": "ipython",
    "version": 3
   },
   "file_extension": ".py",
   "mimetype": "text/x-python",
   "name": "python",
   "nbconvert_exporter": "python",
   "pygments_lexer": "ipython3",
   "version": "3.11.5"
  }
 },
 "nbformat": 4,
 "nbformat_minor": 5
}
