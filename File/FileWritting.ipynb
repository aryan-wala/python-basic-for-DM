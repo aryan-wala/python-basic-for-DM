{
 "cells": [
  {
   "cell_type": "code",
   "execution_count": 10,
   "id": "95e7de60-c45a-4124-97c0-42de3ac97432",
   "metadata": {
    "tags": []
   },
   "outputs": [],
   "source": [
    "fd = open(\"dataWrite.txt\",\"w\")\n",
    "\n",
    "fd.write('Hello all, My name is Aryan. How are you?')\n",
    "fd.write('\\nMy name is Aryan')\n",
    "fd.close()"
   ]
  },
  {
   "cell_type": "markdown",
   "id": "bd0ad166-560b-4e33-9726-e580e67656f9",
   "metadata": {},
   "source": [
    "# Append Mode"
   ]
  },
  {
   "cell_type": "code",
   "execution_count": 13,
   "id": "96778ebb-8689-43e8-bfb1-e41bbb994998",
   "metadata": {
    "tags": []
   },
   "outputs": [],
   "source": [
    "fd = open(\"dataWrite.txt\",\"a\")\n",
    "\n",
    "fd.write(\"\\nMy name is Anthony 69\")\n",
    "fd.close()"
   ]
  },
  {
   "cell_type": "code",
   "execution_count": null,
   "id": "a50369eb-71a3-49ef-82f9-1fe4a9eab2ed",
   "metadata": {},
   "outputs": [],
   "source": []
  }
 ],
 "metadata": {
  "kernelspec": {
   "display_name": "Python 3 (ipykernel)",
   "language": "python",
   "name": "python3"
  },
  "language_info": {
   "codemirror_mode": {
    "name": "ipython",
    "version": 3
   },
   "file_extension": ".py",
   "mimetype": "text/x-python",
   "name": "python",
   "nbconvert_exporter": "python",
   "pygments_lexer": "ipython3",
   "version": "3.11.5"
  }
 },
 "nbformat": 4,
 "nbformat_minor": 5
}
